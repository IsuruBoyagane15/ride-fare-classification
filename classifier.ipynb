{
  "nbformat": 4,
  "nbformat_minor": 0,
  "metadata": {
    "kernelspec": {
      "display_name": "Python 3",
      "language": "python",
      "name": "python3"
    },
    "language_info": {
      "codemirror_mode": {
        "name": "ipython",
        "version": 3
      },
      "file_extension": ".py",
      "mimetype": "text/x-python",
      "name": "python",
      "nbconvert_exporter": "python",
      "pygments_lexer": "ipython3",
      "version": "3.7.7"
    },
    "colab": {
      "name": "classifier.ipynb",
      "provenance": [],
      "collapsed_sections": [
        "tn-f1XYjvMhe",
        "MHNVCy5eAVFQ",
        "VaFnmBRWCOPk",
        "Vguox3Hy9k8w"
      ]
    }
  },
  "cells": [
    {
      "cell_type": "markdown",
      "metadata": {
        "id": "suzB1_v_vMgL",
        "colab_type": "text"
      },
      "source": [
        "# Imports"
      ]
    },
    {
      "cell_type": "code",
      "metadata": {
        "id": "_dlhSKbSv49T",
        "colab_type": "code",
        "colab": {
          "base_uri": "https://localhost:8080/",
          "height": 33
        },
        "outputId": "431f7f43-49f6-4d5b-8d1b-f4bec31c1829"
      },
      "source": [
        "from google.colab import drive\n",
        "drive.mount('/content/drive')"
      ],
      "execution_count": 113,
      "outputs": [
        {
          "output_type": "stream",
          "text": [
            "Drive already mounted at /content/drive; to attempt to forcibly remount, call drive.mount(\"/content/drive\", force_remount=True).\n"
          ],
          "name": "stdout"
        }
      ]
    },
    {
      "cell_type": "code",
      "metadata": {
        "id": "wUj5nN6hwYl3",
        "colab_type": "code",
        "colab": {
          "base_uri": "https://localhost:8080/",
          "height": 33
        },
        "outputId": "cf62ecc3-f29b-4cbf-e660-5a59999aba6f"
      },
      "source": [
        "cd /content/drive/My\\ Drive/Colab\\ Notebooks/ML_A"
      ],
      "execution_count": 114,
      "outputs": [
        {
          "output_type": "stream",
          "text": [
            "/content/drive/My Drive/Colab Notebooks/ML_A\n"
          ],
          "name": "stdout"
        }
      ]
    },
    {
      "cell_type": "code",
      "metadata": {
        "id": "qyX-IQcfwO3J",
        "colab_type": "code",
        "colab": {}
      },
      "source": [
        "# !pip install catboost"
      ],
      "execution_count": 115,
      "outputs": []
    },
    {
      "cell_type": "code",
      "metadata": {
        "pycharm": {
          "name": "#%%\n"
        },
        "id": "wmJqdW5TvMgN",
        "colab_type": "code",
        "colab": {}
      },
      "source": [
        "from datetime import datetime\n",
        "import numpy as np\n",
        "import pandas as pd\n",
        "import math\n",
        "import sklearn\n",
        "\n",
        "from sklearn.model_selection import train_test_split\n",
        "from sklearn.metrics import f1_score\n",
        "from sklearn.metrics import roc_curve\n",
        "import matplotlib.pyplot as plt\n",
        "from sklearn.impute import SimpleImputer\n",
        "from sklearn.ensemble import StackingClassifier\n",
        "import seaborn as sns\n",
        "\n",
        "from sklearn.model_selection import StratifiedKFold\n",
        "from sklearn.model_selection import cross_val_score\n",
        "from statistics import mean\n",
        "\n",
        "from imblearn.over_sampling import RandomOverSampler\n",
        "from imblearn.under_sampling import RandomUnderSampler\n",
        "\n",
        "from sklearn.discriminant_analysis import LinearDiscriminantAnalysis\n",
        "from sklearn.linear_model import LogisticRegression\n",
        "from sklearn.naive_bayes import GaussianNB\n",
        "from sklearn.ensemble import RandomForestClassifier\n",
        "from sklearn.neighbors import KNeighborsClassifier\n",
        "from sklearn.tree import DecisionTreeClassifier\n",
        "from sklearn.ensemble import GradientBoostingClassifier\n",
        "from sklearn.tree import DecisionTreeClassifier\n",
        "from sklearn.linear_model import SGDClassifier\n",
        "from sklearn.svm import SVC\n",
        "from sklearn.ensemble import AdaBoostClassifier\n",
        "\n",
        "from xgboost import XGBClassifier\n",
        "# from catboost import CatBoostClassifier\n",
        "\n",
        "from sklearn.model_selection import GridSearchCV\n",
        "from sklearn.ensemble import StackingClassifier\n",
        "from sklearn import model_selection\n",
        "\n",
        "\n",
        "RANDOM_SEED = 0"
      ],
      "execution_count": 116,
      "outputs": []
    },
    {
      "cell_type": "markdown",
      "metadata": {
        "id": "o4p3tIG1vMgU",
        "colab_type": "text"
      },
      "source": [
        "# Read Dataset"
      ]
    },
    {
      "cell_type": "code",
      "metadata": {
        "pycharm": {
          "name": "#%%\n"
        },
        "id": "8GIl6JopvMgW",
        "colab_type": "code",
        "colab": {}
      },
      "source": [
        "train_df = pd.read_csv('train.csv')\n",
        "test_df = pd.read_csv('test.csv')"
      ],
      "execution_count": 117,
      "outputs": []
    },
    {
      "cell_type": "code",
      "metadata": {
        "id": "LFdOrL5uWVVz",
        "colab_type": "code",
        "colab": {
          "base_uri": "https://localhost:8080/",
          "height": 33
        },
        "outputId": "90454862-eeb1-4716-8d36-1f21e2d42eae"
      },
      "source": [
        " np.count_nonzero(test_df.isnull())  "
      ],
      "execution_count": 118,
      "outputs": [
        {
          "output_type": "execute_result",
          "data": {
            "text/plain": [
              "0"
            ]
          },
          "metadata": {
            "tags": []
          },
          "execution_count": 118
        }
      ]
    },
    {
      "cell_type": "markdown",
      "metadata": {
        "id": "9sNpaCwIvMgc",
        "colab_type": "text"
      },
      "source": [
        "\n",
        "# Fill or Remove missing values"
      ]
    },
    {
      "cell_type": "code",
      "metadata": {
        "pycharm": {
          "name": "#%%\n"
        },
        "id": "vuRV0epGvMgd",
        "colab_type": "code",
        "colab": {}
      },
      "source": [
        "# Drop rows with null\n",
        "train_df = train_df.dropna(how = 'any')\n",
        "train_df.dropna(how = 'any', inplace=True)\n",
        "\n",
        "#fill rows with null by mean conditioned by label\n",
        "# x = train_df.fillna(train_df.groupby(\"label\").transform(\"mean\"))\n",
        "\n",
        "x = train_df\n",
        "x_test = test_df"
      ],
      "execution_count": 119,
      "outputs": []
    },
    {
      "cell_type": "code",
      "metadata": {
        "id": "6Fnnp-OvZvBd",
        "colab_type": "code",
        "colab": {
          "base_uri": "https://localhost:8080/",
          "height": 553
        },
        "outputId": "a2988ff7-22ab-4fac-aa1e-01c2ed55b440"
      },
      "source": [
        "x"
      ],
      "execution_count": 120,
      "outputs": [
        {
          "output_type": "execute_result",
          "data": {
            "text/html": [
              "<div>\n",
              "<style scoped>\n",
              "    .dataframe tbody tr th:only-of-type {\n",
              "        vertical-align: middle;\n",
              "    }\n",
              "\n",
              "    .dataframe tbody tr th {\n",
              "        vertical-align: top;\n",
              "    }\n",
              "\n",
              "    .dataframe thead th {\n",
              "        text-align: right;\n",
              "    }\n",
              "</style>\n",
              "<table border=\"1\" class=\"dataframe\">\n",
              "  <thead>\n",
              "    <tr style=\"text-align: right;\">\n",
              "      <th></th>\n",
              "      <th>tripid</th>\n",
              "      <th>additional_fare</th>\n",
              "      <th>duration</th>\n",
              "      <th>meter_waiting</th>\n",
              "      <th>meter_waiting_fare</th>\n",
              "      <th>meter_waiting_till_pickup</th>\n",
              "      <th>pickup_time</th>\n",
              "      <th>drop_time</th>\n",
              "      <th>pick_lat</th>\n",
              "      <th>pick_lon</th>\n",
              "      <th>drop_lat</th>\n",
              "      <th>drop_lon</th>\n",
              "      <th>fare</th>\n",
              "      <th>label</th>\n",
              "    </tr>\n",
              "  </thead>\n",
              "  <tbody>\n",
              "    <tr>\n",
              "      <th>0</th>\n",
              "      <td>189123628</td>\n",
              "      <td>10.5</td>\n",
              "      <td>834.0</td>\n",
              "      <td>56.0</td>\n",
              "      <td>0.0000</td>\n",
              "      <td>64.0</td>\n",
              "      <td>11/1/2019 0:20</td>\n",
              "      <td>11/1/2019 0:34</td>\n",
              "      <td>6.86252</td>\n",
              "      <td>79.8993</td>\n",
              "      <td>6.90330</td>\n",
              "      <td>79.8783</td>\n",
              "      <td>270.32</td>\n",
              "      <td>correct</td>\n",
              "    </tr>\n",
              "    <tr>\n",
              "      <th>1</th>\n",
              "      <td>189125358</td>\n",
              "      <td>10.5</td>\n",
              "      <td>791.0</td>\n",
              "      <td>47.0</td>\n",
              "      <td>0.0000</td>\n",
              "      <td>134.0</td>\n",
              "      <td>11/1/2019 0:56</td>\n",
              "      <td>11/1/2019 1:09</td>\n",
              "      <td>6.88589</td>\n",
              "      <td>79.8984</td>\n",
              "      <td>6.91373</td>\n",
              "      <td>79.8923</td>\n",
              "      <td>197.85</td>\n",
              "      <td>correct</td>\n",
              "    </tr>\n",
              "    <tr>\n",
              "      <th>2</th>\n",
              "      <td>189125719</td>\n",
              "      <td>10.5</td>\n",
              "      <td>1087.0</td>\n",
              "      <td>80.0</td>\n",
              "      <td>0.0000</td>\n",
              "      <td>61.0</td>\n",
              "      <td>11/1/2019 1:08</td>\n",
              "      <td>11/1/2019 1:26</td>\n",
              "      <td>6.90839</td>\n",
              "      <td>79.8651</td>\n",
              "      <td>6.93669</td>\n",
              "      <td>79.9146</td>\n",
              "      <td>301.64</td>\n",
              "      <td>correct</td>\n",
              "    </tr>\n",
              "    <tr>\n",
              "      <th>3</th>\n",
              "      <td>189127273</td>\n",
              "      <td>10.5</td>\n",
              "      <td>598.0</td>\n",
              "      <td>271.0</td>\n",
              "      <td>15.6638</td>\n",
              "      <td>68.0</td>\n",
              "      <td>11/1/2019 2:27</td>\n",
              "      <td>11/1/2019 2:37</td>\n",
              "      <td>6.92570</td>\n",
              "      <td>79.8895</td>\n",
              "      <td>6.92748</td>\n",
              "      <td>79.8971</td>\n",
              "      <td>82.30</td>\n",
              "      <td>correct</td>\n",
              "    </tr>\n",
              "    <tr>\n",
              "      <th>5</th>\n",
              "      <td>189129552</td>\n",
              "      <td>10.5</td>\n",
              "      <td>3407.0</td>\n",
              "      <td>182.0</td>\n",
              "      <td>0.0000</td>\n",
              "      <td>112.0</td>\n",
              "      <td>11/1/2019 5:38</td>\n",
              "      <td>11/1/2019 6:35</td>\n",
              "      <td>7.13402</td>\n",
              "      <td>79.8969</td>\n",
              "      <td>6.91865</td>\n",
              "      <td>79.8649</td>\n",
              "      <td>1065.02</td>\n",
              "      <td>correct</td>\n",
              "    </tr>\n",
              "    <tr>\n",
              "      <th>...</th>\n",
              "      <td>...</td>\n",
              "      <td>...</td>\n",
              "      <td>...</td>\n",
              "      <td>...</td>\n",
              "      <td>...</td>\n",
              "      <td>...</td>\n",
              "      <td>...</td>\n",
              "      <td>...</td>\n",
              "      <td>...</td>\n",
              "      <td>...</td>\n",
              "      <td>...</td>\n",
              "      <td>...</td>\n",
              "      <td>...</td>\n",
              "      <td>...</td>\n",
              "    </tr>\n",
              "    <tr>\n",
              "      <th>17171</th>\n",
              "      <td>213803193</td>\n",
              "      <td>10.5</td>\n",
              "      <td>838.0</td>\n",
              "      <td>93.0</td>\n",
              "      <td>5.4219</td>\n",
              "      <td>451.0</td>\n",
              "      <td>1/31/2020 22:07</td>\n",
              "      <td>1/31/2020 22:21</td>\n",
              "      <td>7.29073</td>\n",
              "      <td>80.6367</td>\n",
              "      <td>7.28891</td>\n",
              "      <td>80.6557</td>\n",
              "      <td>198.26</td>\n",
              "      <td>correct</td>\n",
              "    </tr>\n",
              "    <tr>\n",
              "      <th>17172</th>\n",
              "      <td>213812756</td>\n",
              "      <td>10.5</td>\n",
              "      <td>2151.0</td>\n",
              "      <td>428.0</td>\n",
              "      <td>0.0000</td>\n",
              "      <td>39.0</td>\n",
              "      <td>1/31/2020 23:07</td>\n",
              "      <td>1/31/2020 23:43</td>\n",
              "      <td>6.90569</td>\n",
              "      <td>79.8516</td>\n",
              "      <td>6.95089</td>\n",
              "      <td>79.9389</td>\n",
              "      <td>581.23</td>\n",
              "      <td>correct</td>\n",
              "    </tr>\n",
              "    <tr>\n",
              "      <th>17173</th>\n",
              "      <td>213813930</td>\n",
              "      <td>10.5</td>\n",
              "      <td>263.0</td>\n",
              "      <td>9.0</td>\n",
              "      <td>0.0000</td>\n",
              "      <td>110.0</td>\n",
              "      <td>1/31/2020 23:21</td>\n",
              "      <td>1/31/2020 23:25</td>\n",
              "      <td>7.09210</td>\n",
              "      <td>79.9000</td>\n",
              "      <td>7.10135</td>\n",
              "      <td>79.9017</td>\n",
              "      <td>76.20</td>\n",
              "      <td>correct</td>\n",
              "    </tr>\n",
              "    <tr>\n",
              "      <th>17174</th>\n",
              "      <td>213815405</td>\n",
              "      <td>10.5</td>\n",
              "      <td>858.0</td>\n",
              "      <td>115.0</td>\n",
              "      <td>0.0000</td>\n",
              "      <td>317.0</td>\n",
              "      <td>1/31/2020 23:39</td>\n",
              "      <td>1/31/2020 23:53</td>\n",
              "      <td>6.94540</td>\n",
              "      <td>79.8768</td>\n",
              "      <td>6.93574</td>\n",
              "      <td>79.9010</td>\n",
              "      <td>133.31</td>\n",
              "      <td>correct</td>\n",
              "    </tr>\n",
              "    <tr>\n",
              "      <th>17175</th>\n",
              "      <td>213817296</td>\n",
              "      <td>10.5</td>\n",
              "      <td>262.0</td>\n",
              "      <td>21.0</td>\n",
              "      <td>1.2243</td>\n",
              "      <td>23.0</td>\n",
              "      <td>1/31/2020 23:49</td>\n",
              "      <td>1/31/2020 23:53</td>\n",
              "      <td>6.90257</td>\n",
              "      <td>79.9557</td>\n",
              "      <td>6.90823</td>\n",
              "      <td>79.9374</td>\n",
              "      <td>98.57</td>\n",
              "      <td>correct</td>\n",
              "    </tr>\n",
              "  </tbody>\n",
              "</table>\n",
              "<p>16968 rows × 14 columns</p>\n",
              "</div>"
            ],
            "text/plain": [
              "          tripid  additional_fare  duration  ...  drop_lon     fare    label\n",
              "0      189123628             10.5     834.0  ...   79.8783   270.32  correct\n",
              "1      189125358             10.5     791.0  ...   79.8923   197.85  correct\n",
              "2      189125719             10.5    1087.0  ...   79.9146   301.64  correct\n",
              "3      189127273             10.5     598.0  ...   79.8971    82.30  correct\n",
              "5      189129552             10.5    3407.0  ...   79.8649  1065.02  correct\n",
              "...          ...              ...       ...  ...       ...      ...      ...\n",
              "17171  213803193             10.5     838.0  ...   80.6557   198.26  correct\n",
              "17172  213812756             10.5    2151.0  ...   79.9389   581.23  correct\n",
              "17173  213813930             10.5     263.0  ...   79.9017    76.20  correct\n",
              "17174  213815405             10.5     858.0  ...   79.9010   133.31  correct\n",
              "17175  213817296             10.5     262.0  ...   79.9374    98.57  correct\n",
              "\n",
              "[16968 rows x 14 columns]"
            ]
          },
          "metadata": {
            "tags": []
          },
          "execution_count": 120
        }
      ]
    },
    {
      "cell_type": "code",
      "metadata": {
        "id": "5RZmui1azMQ6",
        "colab_type": "code",
        "colab": {}
      },
      "source": [
        "x['label'] = x['label'].map({'correct' :1, 'incorrect':0})"
      ],
      "execution_count": 121,
      "outputs": []
    },
    {
      "cell_type": "code",
      "metadata": {
        "id": "731BmKhyAS2R",
        "colab_type": "code",
        "colab": {
          "base_uri": "https://localhost:8080/",
          "height": 297
        },
        "outputId": "5ca733e2-c997-41e6-97b3-6c9ec8202013"
      },
      "source": [
        "x.describe()"
      ],
      "execution_count": 122,
      "outputs": [
        {
          "output_type": "execute_result",
          "data": {
            "text/html": [
              "<div>\n",
              "<style scoped>\n",
              "    .dataframe tbody tr th:only-of-type {\n",
              "        vertical-align: middle;\n",
              "    }\n",
              "\n",
              "    .dataframe tbody tr th {\n",
              "        vertical-align: top;\n",
              "    }\n",
              "\n",
              "    .dataframe thead th {\n",
              "        text-align: right;\n",
              "    }\n",
              "</style>\n",
              "<table border=\"1\" class=\"dataframe\">\n",
              "  <thead>\n",
              "    <tr style=\"text-align: right;\">\n",
              "      <th></th>\n",
              "      <th>tripid</th>\n",
              "      <th>additional_fare</th>\n",
              "      <th>duration</th>\n",
              "      <th>meter_waiting</th>\n",
              "      <th>meter_waiting_fare</th>\n",
              "      <th>meter_waiting_till_pickup</th>\n",
              "      <th>pick_lat</th>\n",
              "      <th>pick_lon</th>\n",
              "      <th>drop_lat</th>\n",
              "      <th>drop_lon</th>\n",
              "      <th>fare</th>\n",
              "      <th>label</th>\n",
              "    </tr>\n",
              "  </thead>\n",
              "  <tbody>\n",
              "    <tr>\n",
              "      <th>count</th>\n",
              "      <td>1.696800e+04</td>\n",
              "      <td>16968.000000</td>\n",
              "      <td>16968.000000</td>\n",
              "      <td>16968.000000</td>\n",
              "      <td>16968.000000</td>\n",
              "      <td>16968.000000</td>\n",
              "      <td>16968.000000</td>\n",
              "      <td>16968.000000</td>\n",
              "      <td>16968.000000</td>\n",
              "      <td>16968.000000</td>\n",
              "      <td>16968.000000</td>\n",
              "      <td>16968.000000</td>\n",
              "    </tr>\n",
              "    <tr>\n",
              "      <th>mean</th>\n",
              "      <td>2.014695e+08</td>\n",
              "      <td>13.721437</td>\n",
              "      <td>1702.836987</td>\n",
              "      <td>628.875000</td>\n",
              "      <td>32.045122</td>\n",
              "      <td>112.489510</td>\n",
              "      <td>6.965160</td>\n",
              "      <td>79.998018</td>\n",
              "      <td>6.968278</td>\n",
              "      <td>79.997108</td>\n",
              "      <td>312.657884</td>\n",
              "      <td>0.910066</td>\n",
              "    </tr>\n",
              "    <tr>\n",
              "      <th>std</th>\n",
              "      <td>7.453627e+06</td>\n",
              "      <td>98.992493</td>\n",
              "      <td>8121.556167</td>\n",
              "      <td>8064.657846</td>\n",
              "      <td>465.564240</td>\n",
              "      <td>442.129943</td>\n",
              "      <td>0.210840</td>\n",
              "      <td>0.242832</td>\n",
              "      <td>0.380253</td>\n",
              "      <td>0.360503</td>\n",
              "      <td>606.372103</td>\n",
              "      <td>0.286096</td>\n",
              "    </tr>\n",
              "    <tr>\n",
              "      <th>min</th>\n",
              "      <td>1.891236e+08</td>\n",
              "      <td>0.000000</td>\n",
              "      <td>0.000000</td>\n",
              "      <td>0.000000</td>\n",
              "      <td>0.000000</td>\n",
              "      <td>0.000000</td>\n",
              "      <td>5.937600</td>\n",
              "      <td>79.819100</td>\n",
              "      <td>5.941860</td>\n",
              "      <td>45.307700</td>\n",
              "      <td>0.000000</td>\n",
              "      <td>0.000000</td>\n",
              "    </tr>\n",
              "    <tr>\n",
              "      <th>25%</th>\n",
              "      <td>1.947342e+08</td>\n",
              "      <td>10.500000</td>\n",
              "      <td>548.000000</td>\n",
              "      <td>33.000000</td>\n",
              "      <td>0.000000</td>\n",
              "      <td>26.000000</td>\n",
              "      <td>6.864830</td>\n",
              "      <td>79.870475</td>\n",
              "      <td>6.865580</td>\n",
              "      <td>79.870100</td>\n",
              "      <td>125.500000</td>\n",
              "      <td>1.000000</td>\n",
              "    </tr>\n",
              "    <tr>\n",
              "      <th>50%</th>\n",
              "      <td>2.013928e+08</td>\n",
              "      <td>10.500000</td>\n",
              "      <td>1009.000000</td>\n",
              "      <td>123.000000</td>\n",
              "      <td>0.115600</td>\n",
              "      <td>73.000000</td>\n",
              "      <td>6.913970</td>\n",
              "      <td>79.898600</td>\n",
              "      <td>6.915940</td>\n",
              "      <td>79.899000</td>\n",
              "      <td>211.050000</td>\n",
              "      <td>1.000000</td>\n",
              "    </tr>\n",
              "    <tr>\n",
              "      <th>75%</th>\n",
              "      <td>2.083314e+08</td>\n",
              "      <td>10.500000</td>\n",
              "      <td>1802.250000</td>\n",
              "      <td>351.000000</td>\n",
              "      <td>14.334400</td>\n",
              "      <td>144.000000</td>\n",
              "      <td>7.042698</td>\n",
              "      <td>79.956500</td>\n",
              "      <td>7.046555</td>\n",
              "      <td>79.960000</td>\n",
              "      <td>366.205000</td>\n",
              "      <td>1.000000</td>\n",
              "    </tr>\n",
              "    <tr>\n",
              "      <th>max</th>\n",
              "      <td>2.138173e+08</td>\n",
              "      <td>12795.030000</td>\n",
              "      <td>453872.000000</td>\n",
              "      <td>453650.000000</td>\n",
              "      <td>26198.601400</td>\n",
              "      <td>51288.000000</td>\n",
              "      <td>8.051010</td>\n",
              "      <td>81.009600</td>\n",
              "      <td>48.132000</td>\n",
              "      <td>81.009700</td>\n",
              "      <td>26945.990000</td>\n",
              "      <td>1.000000</td>\n",
              "    </tr>\n",
              "  </tbody>\n",
              "</table>\n",
              "</div>"
            ],
            "text/plain": [
              "             tripid  additional_fare  ...          fare         label\n",
              "count  1.696800e+04     16968.000000  ...  16968.000000  16968.000000\n",
              "mean   2.014695e+08        13.721437  ...    312.657884      0.910066\n",
              "std    7.453627e+06        98.992493  ...    606.372103      0.286096\n",
              "min    1.891236e+08         0.000000  ...      0.000000      0.000000\n",
              "25%    1.947342e+08        10.500000  ...    125.500000      1.000000\n",
              "50%    2.013928e+08        10.500000  ...    211.050000      1.000000\n",
              "75%    2.083314e+08        10.500000  ...    366.205000      1.000000\n",
              "max    2.138173e+08     12795.030000  ...  26945.990000      1.000000\n",
              "\n",
              "[8 rows x 12 columns]"
            ]
          },
          "metadata": {
            "tags": []
          },
          "execution_count": 122
        }
      ]
    },
    {
      "cell_type": "code",
      "metadata": {
        "id": "M8yNHEvBB4Xa",
        "colab_type": "code",
        "colab": {
          "base_uri": "https://localhost:8080/",
          "height": 277
        },
        "outputId": "bfbe48e3-52dd-4187-f17b-6065fd28e65e"
      },
      "source": [
        "x_test.describe()"
      ],
      "execution_count": 123,
      "outputs": [
        {
          "output_type": "execute_result",
          "data": {
            "text/html": [
              "<div>\n",
              "<style scoped>\n",
              "    .dataframe tbody tr th:only-of-type {\n",
              "        vertical-align: middle;\n",
              "    }\n",
              "\n",
              "    .dataframe tbody tr th {\n",
              "        vertical-align: top;\n",
              "    }\n",
              "\n",
              "    .dataframe thead th {\n",
              "        text-align: right;\n",
              "    }\n",
              "</style>\n",
              "<table border=\"1\" class=\"dataframe\">\n",
              "  <thead>\n",
              "    <tr style=\"text-align: right;\">\n",
              "      <th></th>\n",
              "      <th>tripid</th>\n",
              "      <th>additional_fare</th>\n",
              "      <th>duration</th>\n",
              "      <th>meter_waiting</th>\n",
              "      <th>meter_waiting_fare</th>\n",
              "      <th>meter_waiting_till_pickup</th>\n",
              "      <th>pick_lat</th>\n",
              "      <th>pick_lon</th>\n",
              "      <th>drop_lat</th>\n",
              "      <th>drop_lon</th>\n",
              "      <th>fare</th>\n",
              "    </tr>\n",
              "  </thead>\n",
              "  <tbody>\n",
              "    <tr>\n",
              "      <th>count</th>\n",
              "      <td>8.576000e+03</td>\n",
              "      <td>8576.000000</td>\n",
              "      <td>8576.000000</td>\n",
              "      <td>8576.000000</td>\n",
              "      <td>8576.000000</td>\n",
              "      <td>8576.000000</td>\n",
              "      <td>8576.000000</td>\n",
              "      <td>8576.000000</td>\n",
              "      <td>8576.000000</td>\n",
              "      <td>8576.000000</td>\n",
              "      <td>8576.000000</td>\n",
              "    </tr>\n",
              "    <tr>\n",
              "      <th>mean</th>\n",
              "      <td>2.180067e+08</td>\n",
              "      <td>11.088095</td>\n",
              "      <td>1541.590485</td>\n",
              "      <td>508.502099</td>\n",
              "      <td>24.671655</td>\n",
              "      <td>119.863106</td>\n",
              "      <td>6.969246</td>\n",
              "      <td>80.008728</td>\n",
              "      <td>6.970008</td>\n",
              "      <td>80.010145</td>\n",
              "      <td>293.278057</td>\n",
              "    </tr>\n",
              "    <tr>\n",
              "      <th>std</th>\n",
              "      <td>2.789252e+06</td>\n",
              "      <td>5.359602</td>\n",
              "      <td>5952.458574</td>\n",
              "      <td>5784.005855</td>\n",
              "      <td>333.515641</td>\n",
              "      <td>793.233190</td>\n",
              "      <td>0.217809</td>\n",
              "      <td>0.251873</td>\n",
              "      <td>0.218826</td>\n",
              "      <td>0.252229</td>\n",
              "      <td>436.730282</td>\n",
              "    </tr>\n",
              "    <tr>\n",
              "      <th>min</th>\n",
              "      <td>2.132846e+08</td>\n",
              "      <td>0.000000</td>\n",
              "      <td>0.000000</td>\n",
              "      <td>0.000000</td>\n",
              "      <td>0.000000</td>\n",
              "      <td>0.000000</td>\n",
              "      <td>5.943130</td>\n",
              "      <td>79.817700</td>\n",
              "      <td>5.936600</td>\n",
              "      <td>79.818000</td>\n",
              "      <td>0.000000</td>\n",
              "    </tr>\n",
              "    <tr>\n",
              "      <th>25%</th>\n",
              "      <td>2.156247e+08</td>\n",
              "      <td>10.500000</td>\n",
              "      <td>540.000000</td>\n",
              "      <td>30.000000</td>\n",
              "      <td>0.000000</td>\n",
              "      <td>26.000000</td>\n",
              "      <td>6.864810</td>\n",
              "      <td>79.871600</td>\n",
              "      <td>6.864950</td>\n",
              "      <td>79.871300</td>\n",
              "      <td>126.077500</td>\n",
              "    </tr>\n",
              "    <tr>\n",
              "      <th>50%</th>\n",
              "      <td>2.179006e+08</td>\n",
              "      <td>10.500000</td>\n",
              "      <td>982.500000</td>\n",
              "      <td>116.000000</td>\n",
              "      <td>0.000000</td>\n",
              "      <td>72.000000</td>\n",
              "      <td>6.913605</td>\n",
              "      <td>79.900500</td>\n",
              "      <td>6.915460</td>\n",
              "      <td>79.902250</td>\n",
              "      <td>203.950000</td>\n",
              "    </tr>\n",
              "    <tr>\n",
              "      <th>75%</th>\n",
              "      <td>2.203904e+08</td>\n",
              "      <td>10.500000</td>\n",
              "      <td>1723.000000</td>\n",
              "      <td>336.250000</td>\n",
              "      <td>11.744200</td>\n",
              "      <td>138.000000</td>\n",
              "      <td>7.068875</td>\n",
              "      <td>79.963225</td>\n",
              "      <td>7.073505</td>\n",
              "      <td>79.967825</td>\n",
              "      <td>344.075000</td>\n",
              "    </tr>\n",
              "    <tr>\n",
              "      <th>max</th>\n",
              "      <td>2.228607e+08</td>\n",
              "      <td>160.500000</td>\n",
              "      <td>447230.000000</td>\n",
              "      <td>446934.000000</td>\n",
              "      <td>25760.361800</td>\n",
              "      <td>55571.000000</td>\n",
              "      <td>8.425010</td>\n",
              "      <td>80.776400</td>\n",
              "      <td>8.421730</td>\n",
              "      <td>80.805500</td>\n",
              "      <td>26844.330000</td>\n",
              "    </tr>\n",
              "  </tbody>\n",
              "</table>\n",
              "</div>"
            ],
            "text/plain": [
              "             tripid  additional_fare  ...     drop_lon          fare\n",
              "count  8.576000e+03      8576.000000  ...  8576.000000   8576.000000\n",
              "mean   2.180067e+08        11.088095  ...    80.010145    293.278057\n",
              "std    2.789252e+06         5.359602  ...     0.252229    436.730282\n",
              "min    2.132846e+08         0.000000  ...    79.818000      0.000000\n",
              "25%    2.156247e+08        10.500000  ...    79.871300    126.077500\n",
              "50%    2.179006e+08        10.500000  ...    79.902250    203.950000\n",
              "75%    2.203904e+08        10.500000  ...    79.967825    344.075000\n",
              "max    2.228607e+08       160.500000  ...    80.805500  26844.330000\n",
              "\n",
              "[8 rows x 11 columns]"
            ]
          },
          "metadata": {
            "tags": []
          },
          "execution_count": 123
        }
      ]
    },
    {
      "cell_type": "code",
      "metadata": {
        "id": "Xe7AnwIeOeCc",
        "colab_type": "code",
        "colab": {
          "base_uri": "https://localhost:8080/",
          "height": 392
        },
        "outputId": "560b205e-0f06-419d-a6d1-40c349a03ff7"
      },
      "source": [
        "x.corr()"
      ],
      "execution_count": 124,
      "outputs": [
        {
          "output_type": "execute_result",
          "data": {
            "text/html": [
              "<div>\n",
              "<style scoped>\n",
              "    .dataframe tbody tr th:only-of-type {\n",
              "        vertical-align: middle;\n",
              "    }\n",
              "\n",
              "    .dataframe tbody tr th {\n",
              "        vertical-align: top;\n",
              "    }\n",
              "\n",
              "    .dataframe thead th {\n",
              "        text-align: right;\n",
              "    }\n",
              "</style>\n",
              "<table border=\"1\" class=\"dataframe\">\n",
              "  <thead>\n",
              "    <tr style=\"text-align: right;\">\n",
              "      <th></th>\n",
              "      <th>tripid</th>\n",
              "      <th>additional_fare</th>\n",
              "      <th>duration</th>\n",
              "      <th>meter_waiting</th>\n",
              "      <th>meter_waiting_fare</th>\n",
              "      <th>meter_waiting_till_pickup</th>\n",
              "      <th>pick_lat</th>\n",
              "      <th>pick_lon</th>\n",
              "      <th>drop_lat</th>\n",
              "      <th>drop_lon</th>\n",
              "      <th>fare</th>\n",
              "      <th>label</th>\n",
              "    </tr>\n",
              "  </thead>\n",
              "  <tbody>\n",
              "    <tr>\n",
              "      <th>tripid</th>\n",
              "      <td>1.000000</td>\n",
              "      <td>0.019134</td>\n",
              "      <td>-0.019753</td>\n",
              "      <td>-0.016872</td>\n",
              "      <td>-0.017291</td>\n",
              "      <td>-0.017930</td>\n",
              "      <td>0.028994</td>\n",
              "      <td>0.029901</td>\n",
              "      <td>0.006327</td>\n",
              "      <td>0.030312</td>\n",
              "      <td>-0.014647</td>\n",
              "      <td>0.069251</td>\n",
              "    </tr>\n",
              "    <tr>\n",
              "      <th>additional_fare</th>\n",
              "      <td>0.019134</td>\n",
              "      <td>1.000000</td>\n",
              "      <td>-0.000774</td>\n",
              "      <td>0.197606</td>\n",
              "      <td>0.199606</td>\n",
              "      <td>0.002352</td>\n",
              "      <td>0.009120</td>\n",
              "      <td>0.000612</td>\n",
              "      <td>0.004642</td>\n",
              "      <td>0.001532</td>\n",
              "      <td>0.315285</td>\n",
              "      <td>-0.041040</td>\n",
              "    </tr>\n",
              "    <tr>\n",
              "      <th>duration</th>\n",
              "      <td>-0.019753</td>\n",
              "      <td>-0.000774</td>\n",
              "      <td>1.000000</td>\n",
              "      <td>0.969788</td>\n",
              "      <td>0.968667</td>\n",
              "      <td>0.040577</td>\n",
              "      <td>-0.027081</td>\n",
              "      <td>-0.025590</td>\n",
              "      <td>-0.015969</td>\n",
              "      <td>-0.013603</td>\n",
              "      <td>0.865256</td>\n",
              "      <td>-0.113149</td>\n",
              "    </tr>\n",
              "    <tr>\n",
              "      <th>meter_waiting</th>\n",
              "      <td>-0.016872</td>\n",
              "      <td>0.197606</td>\n",
              "      <td>0.969788</td>\n",
              "      <td>1.000000</td>\n",
              "      <td>0.999474</td>\n",
              "      <td>0.030450</td>\n",
              "      <td>-0.016167</td>\n",
              "      <td>-0.014196</td>\n",
              "      <td>-0.010114</td>\n",
              "      <td>-0.007895</td>\n",
              "      <td>0.870126</td>\n",
              "      <td>-0.107379</td>\n",
              "    </tr>\n",
              "    <tr>\n",
              "      <th>meter_waiting_fare</th>\n",
              "      <td>-0.017291</td>\n",
              "      <td>0.199606</td>\n",
              "      <td>0.968667</td>\n",
              "      <td>0.999474</td>\n",
              "      <td>1.000000</td>\n",
              "      <td>0.029911</td>\n",
              "      <td>-0.015009</td>\n",
              "      <td>-0.012467</td>\n",
              "      <td>-0.009426</td>\n",
              "      <td>-0.006794</td>\n",
              "      <td>0.865073</td>\n",
              "      <td>-0.103418</td>\n",
              "    </tr>\n",
              "    <tr>\n",
              "      <th>meter_waiting_till_pickup</th>\n",
              "      <td>-0.017930</td>\n",
              "      <td>0.002352</td>\n",
              "      <td>0.040577</td>\n",
              "      <td>0.030450</td>\n",
              "      <td>0.029911</td>\n",
              "      <td>1.000000</td>\n",
              "      <td>0.011381</td>\n",
              "      <td>0.016483</td>\n",
              "      <td>0.006942</td>\n",
              "      <td>0.011047</td>\n",
              "      <td>0.045468</td>\n",
              "      <td>-0.035546</td>\n",
              "    </tr>\n",
              "    <tr>\n",
              "      <th>pick_lat</th>\n",
              "      <td>0.028994</td>\n",
              "      <td>0.009120</td>\n",
              "      <td>-0.027081</td>\n",
              "      <td>-0.016167</td>\n",
              "      <td>-0.015009</td>\n",
              "      <td>0.011381</td>\n",
              "      <td>1.000000</td>\n",
              "      <td>0.519962</td>\n",
              "      <td>0.558312</td>\n",
              "      <td>0.336847</td>\n",
              "      <td>-0.024726</td>\n",
              "      <td>-0.027702</td>\n",
              "    </tr>\n",
              "    <tr>\n",
              "      <th>pick_lon</th>\n",
              "      <td>0.029901</td>\n",
              "      <td>0.000612</td>\n",
              "      <td>-0.025590</td>\n",
              "      <td>-0.014196</td>\n",
              "      <td>-0.012467</td>\n",
              "      <td>0.016483</td>\n",
              "      <td>0.519962</td>\n",
              "      <td>1.000000</td>\n",
              "      <td>0.304976</td>\n",
              "      <td>0.651794</td>\n",
              "      <td>-0.035472</td>\n",
              "      <td>-0.038129</td>\n",
              "    </tr>\n",
              "    <tr>\n",
              "      <th>drop_lat</th>\n",
              "      <td>0.006327</td>\n",
              "      <td>0.004642</td>\n",
              "      <td>-0.015969</td>\n",
              "      <td>-0.010114</td>\n",
              "      <td>-0.009426</td>\n",
              "      <td>0.006942</td>\n",
              "      <td>0.558312</td>\n",
              "      <td>0.304976</td>\n",
              "      <td>1.000000</td>\n",
              "      <td>-0.420574</td>\n",
              "      <td>-0.015615</td>\n",
              "      <td>-0.011633</td>\n",
              "    </tr>\n",
              "    <tr>\n",
              "      <th>drop_lon</th>\n",
              "      <td>0.030312</td>\n",
              "      <td>0.001532</td>\n",
              "      <td>-0.013603</td>\n",
              "      <td>-0.007895</td>\n",
              "      <td>-0.006794</td>\n",
              "      <td>0.011047</td>\n",
              "      <td>0.336847</td>\n",
              "      <td>0.651794</td>\n",
              "      <td>-0.420574</td>\n",
              "      <td>1.000000</td>\n",
              "      <td>-0.014981</td>\n",
              "      <td>-0.030311</td>\n",
              "    </tr>\n",
              "    <tr>\n",
              "      <th>fare</th>\n",
              "      <td>-0.014647</td>\n",
              "      <td>0.315285</td>\n",
              "      <td>0.865256</td>\n",
              "      <td>0.870126</td>\n",
              "      <td>0.865073</td>\n",
              "      <td>0.045468</td>\n",
              "      <td>-0.024726</td>\n",
              "      <td>-0.035472</td>\n",
              "      <td>-0.015615</td>\n",
              "      <td>-0.014981</td>\n",
              "      <td>1.000000</td>\n",
              "      <td>-0.183861</td>\n",
              "    </tr>\n",
              "    <tr>\n",
              "      <th>label</th>\n",
              "      <td>0.069251</td>\n",
              "      <td>-0.041040</td>\n",
              "      <td>-0.113149</td>\n",
              "      <td>-0.107379</td>\n",
              "      <td>-0.103418</td>\n",
              "      <td>-0.035546</td>\n",
              "      <td>-0.027702</td>\n",
              "      <td>-0.038129</td>\n",
              "      <td>-0.011633</td>\n",
              "      <td>-0.030311</td>\n",
              "      <td>-0.183861</td>\n",
              "      <td>1.000000</td>\n",
              "    </tr>\n",
              "  </tbody>\n",
              "</table>\n",
              "</div>"
            ],
            "text/plain": [
              "                             tripid  additional_fare  ...      fare     label\n",
              "tripid                     1.000000         0.019134  ... -0.014647  0.069251\n",
              "additional_fare            0.019134         1.000000  ...  0.315285 -0.041040\n",
              "duration                  -0.019753        -0.000774  ...  0.865256 -0.113149\n",
              "meter_waiting             -0.016872         0.197606  ...  0.870126 -0.107379\n",
              "meter_waiting_fare        -0.017291         0.199606  ...  0.865073 -0.103418\n",
              "meter_waiting_till_pickup -0.017930         0.002352  ...  0.045468 -0.035546\n",
              "pick_lat                   0.028994         0.009120  ... -0.024726 -0.027702\n",
              "pick_lon                   0.029901         0.000612  ... -0.035472 -0.038129\n",
              "drop_lat                   0.006327         0.004642  ... -0.015615 -0.011633\n",
              "drop_lon                   0.030312         0.001532  ... -0.014981 -0.030311\n",
              "fare                      -0.014647         0.315285  ...  1.000000 -0.183861\n",
              "label                      0.069251        -0.041040  ... -0.183861  1.000000\n",
              "\n",
              "[12 rows x 12 columns]"
            ]
          },
          "metadata": {
            "tags": []
          },
          "execution_count": 124
        }
      ]
    },
    {
      "cell_type": "markdown",
      "metadata": {
        "pycharm": {
          "name": "#%% md\n"
        },
        "id": "4JFSFjS3vMgx",
        "colab_type": "text"
      },
      "source": [
        "# Date times to separate features"
      ]
    },
    {
      "cell_type": "code",
      "metadata": {
        "pycharm": {
          "name": "#%%\n"
        },
        "id": "eomip9nsvMgy",
        "colab_type": "code",
        "colab": {}
      },
      "source": [
        "def dates(date, need):\n",
        "    if date == None or date == '':\n",
        "        return date\n",
        "    else:\n",
        "        d_t = date.split(\" \")\n",
        "        d = d_t[0]\n",
        "        t = d_t[1]\n",
        "\n",
        "        d_l = d.split(\"/\")\n",
        "        day = int(d_l[1])\n",
        "        month = int(d_l[0])\n",
        "        year = int(d_l[2])\n",
        "\n",
        "        t_l = t.split(':')\n",
        "        hour = int(t_l[0])\n",
        "        mini = int(t_l[1])\n",
        "        if need == 'y':\n",
        "            return year\n",
        "        if need == 'mo':\n",
        "            return month\n",
        "        if need == 'd':\n",
        "            return day\n",
        "        if need == 'h':\n",
        "            return hour\n",
        "        if need =='min': \n",
        "            return mini\n",
        "\n",
        "def pick_drop_date_diff(pick, drop):\n",
        "  pda = pick.split(\" \")[0]\n",
        "  dda = drop.split(\" \")[0]\n",
        "\n",
        "  if pda == dda:\n",
        "    return 0\n",
        "  else:\n",
        "    return 1\n"
      ],
      "execution_count": 125,
      "outputs": []
    },
    {
      "cell_type": "markdown",
      "metadata": {
        "id": "NR45Q3JmUERS",
        "colab_type": "text"
      },
      "source": [
        "# Date Diff"
      ]
    },
    {
      "cell_type": "code",
      "metadata": {
        "id": "emGhtb6wUDpd",
        "colab_type": "code",
        "colab": {}
      },
      "source": [
        "# x['pickup_day'] = x['pickup_time'].apply(dates, need = \"d\")\n",
        "# x['pickup_hour'] = x['pickup_time'].apply(dates, need = \"h\")\n",
        "# x['pickup_mini'] = x['pickup_time'].apply(dates, need = \"min\")\n",
        "\n",
        "# x_test['pickup_day'] = x_test['pickup_time'].apply(dates, need = \"d\")\n",
        "# x_test['pickup_hour'] = x_test['pickup_time'].apply(dates, need = \"h\")\n",
        "# x_test['pickup_mini'] = x_test['pickup_time'].apply(dates, need = \"min\")\n",
        "\n",
        "# x['drop_day'] = x['drop_time'].apply(dates, need = \"d\")\n",
        "# x['drop_hour'] = x['drop_time'].apply(dates, need = \"h\") \n",
        "# x['drop_mini'] = x['drop_time'].apply(dates, need = \"min\")\n",
        "\n",
        "# x_test['drop_day'] = x_test['drop_time'].apply(dates, need = \"d\")\n",
        "# x_test['drop_hour'] = x_test['drop_time'].apply(dates, need = \"h\")\n",
        "# x_test['drop_mini'] = x_test['drop_time'].apply(dates, need = \"min\")\n",
        "\n",
        "x['pick_drop_date_diff'] = x.apply(lambda x: pick_drop_date_diff(x.pickup_time, x.drop_time), axis=1)\n",
        "x_test['pick_drop_date_diff'] = x_test.apply(lambda x: pick_drop_date_diff(x.pickup_time, x.drop_time), axis=1)\n"
      ],
      "execution_count": 126,
      "outputs": []
    },
    {
      "cell_type": "markdown",
      "metadata": {
        "id": "H9w5o1GEvMg5",
        "colab_type": "text"
      },
      "source": [
        "# ~~Create cyclic features from year,month,date, hour,minute~~"
      ]
    },
    {
      "cell_type": "code",
      "metadata": {
        "pycharm": {
          "name": "#%%\n"
        },
        "id": "qLlm0_ZfvMg6",
        "colab_type": "code",
        "colab": {}
      },
      "source": [
        "# PICKUP TIME \n",
        "# x['pickup_year'] = x['pickup_time'].apply(dates, need = \"y\")\n",
        "\n",
        "# x['pickup_month'] = x['pickup_time'].apply(dates, need = \"mo\")\n",
        "# x['pickup_day'] = x['pickup_time'].apply(dates, need = \"d\")\n",
        "# x['pickup_hour'] = x['pickup_time'].apply(dates, need = \"h\")\n",
        "# x['pickup_mini'] = x['pickup_time'].apply(dates, need = \"min\")\n",
        "\n",
        "# x['pickup_month_sin'] = np.sin((x.pickup_month-1)*(2.*np.pi/12))\n",
        "# x['pickup_month_cos'] = np.cos((x.pickup_month-1)*(2.*np.pi/12))\n",
        "\n",
        "# x['pickup_day_sin'] = np.sin((x.pickup_day-1)*(2.*np.pi/31))\n",
        "# x['pickup_day_cos'] = np.cos((x.pickup_day-1)*(2.*np.pi/31))\n",
        "\n",
        "# x['pickup_hour_sin'] = np.sin(x.pickup_hour*(2.*np.pi/24))\n",
        "# x['pickup_hour_cos'] = np.cos(x.pickup_hour*(2.*np.pi/24))\n",
        "\n",
        "# x['pickup_mini_sin'] = np.sin(x.pickup_mini*(2.*np.pi/60))\n",
        "# x['pickup_mini_cos'] = np.cos(x.pickup_mini*(2.*np.pi/60))\n",
        "\n",
        "# x = x.drop('pickup_month', axis=1)\n",
        "# x = x.drop('pickup_day', axis=1)\n",
        "# x = x.drop('pickup_hour', axis=1)\n",
        "# x = x.drop('pickup_mini', axis=1)\n",
        "\n",
        "# x_test['pickup_year'] = x_test['pickup_time'].apply(dates, need = \"y\")\n",
        "\n",
        "# x_test['pickup_month'] = x_test['pickup_time'].apply(dates, need = \"mo\")\n",
        "# x_test['pickup_day'] = x_test['pickup_time'].apply(dates, need = \"d\")\n",
        "# x_test['pickup_hour'] = x_test['pickup_time'].apply(dates, need = \"h\")\n",
        "# x_test['pickup_mini'] = x_test['pickup_time'].apply(dates, need = \"min\")\n",
        "\n",
        "# x_test['pickup_month_sin'] = np.sin((x_test.pickup_month-1)*(2.*np.pi/12))\n",
        "# x_test['pickup_month_cos'] = np.cos((x_test.pickup_month-1)*(2.*np.pi/12))\n",
        "\n",
        "# x_test['pickup_day_sin'] = np.sin((x_test.pickup_day-1)*(2.*np.pi/31))\n",
        "# x_test['pickup_day_cos'] = np.cos((x_test.pickup_day-1)*(2.*np.pi/31))\n",
        "\n",
        "# x_test['pickup_hour_sin'] = np.sin(x_test.pickup_hour*(2.*np.pi/24))\n",
        "# x_test['pickup_hour_cos'] = np.cos(x_test.pickup_hour*(2.*np.pi/24))\n",
        "\n",
        "# x_test['pickup_mini_sin'] = np.sin(x_test.pickup_mini*(2.*np.pi/60))\n",
        "# x_test['pickup_mini_cos'] = np.cos(x_test.pickup_mini*(2.*np.pi/60))\n",
        "\n",
        "# x_test = x_test.drop('pickup_month', axis=1)\n",
        "# x_test = x_test.drop('pickup_day', axis=1)\n",
        "# x_test = x_test.drop('pickup_hour', axis=1)\n",
        "# x_test = x_test.drop('pickup_mini', axis=1)\n",
        "\n",
        "# # DROP TIME\n",
        "\n",
        "# x['drop_year'] = x['drop_time'].apply(dates, need = \"y\")\n",
        "\n",
        "# x['drop_month'] = x['drop_time'].apply(dates, need = \"mo\")\n",
        "# x['drop_day'] = x['drop_time'].apply(dates, need = \"d\")\n",
        "# x['drop_hour'] = x['drop_time'].apply(dates, need = \"h\")\n",
        "# x['drop_mini'] = x['drop_time'].apply(dates, need = \"min\")\n",
        "\n",
        "# x['drop_month_sin'] = np.sin((x.drop_month-1)*(2.*np.pi/12))\n",
        "# x['drop_month_cos'] = np.cos((x.drop_month-1)*(2.*np.pi/12))\n",
        "\n",
        "# x['drop_day_sin'] = np.sin((x.drop_day-1)*(2.*np.pi/31))\n",
        "# x['drop_day_cos'] = np.cos((x.drop_day-1)*(2.*np.pi/31))\n",
        "\n",
        "# x['drop_hour_sin'] = np.sin(x.drop_hour*(2.*np.pi/24))\n",
        "# x['drop_hour_cos'] = np.cos(x.drop_hour*(2.*np.pi/24))\n",
        "\n",
        "# x['drop_mini_sin'] = np.sin(x.drop_mini*(2.*np.pi/60))\n",
        "# x['drop_mini_cos'] = np.cos(x.drop_mini*(2.*np.pi/60))\n",
        "\n",
        "# x = x.drop('drop_month', axis=1)\n",
        "# x = x.drop('drop_day', axis=1)\n",
        "# x = x.drop('drop_hour', axis=1)\n",
        "# x = x.drop('drop_mini', axis=1)\n",
        "\n",
        "# x_test['drop_year'] = x_test['drop_time'].apply(dates, need = \"y\")\n",
        "\n",
        "# x_test['drop_month'] = x_test['drop_time'].apply(dates, need = \"mo\")\n",
        "# x_test['drop_day'] = x_test['drop_time'].apply(dates, need = \"d\")\n",
        "# x_test['drop_hour'] = x_test['drop_time'].apply(dates, need = \"h\")\n",
        "# x_test['drop_mini'] = x_test['drop_time'].apply(dates, need = \"min\")\n",
        "\n",
        "# x_test['drop_month_sin'] = np.sin((x_test.drop_month-1)*(2.*np.pi/12))\n",
        "# x_test['drop_month_cos'] = np.cos((x_test.drop_month-1)*(2.*np.pi/12))\n",
        "\n",
        "# x_test['drop_day_sin'] = np.sin((x_test.drop_day-1)*(2.*np.pi/31))\n",
        "# x_test['drop_day_cos'] = np.cos((x_test.drop_day-1)*(2.*np.pi/31))\n",
        "\n",
        "# x_test['drop_hour_sin'] = np.sin(x_test.drop_hour*(2.*np.pi/24))\n",
        "# x_test['drop_hour_cos'] = np.cos(x_test.drop_hour*(2.*np.pi/24))\n",
        "\n",
        "# x_test['drop_mini_sin'] = np.sin(x_test.drop_mini*(2.*np.pi/60))\n",
        "# x_test['drop_mini_cos'] = np.cos(x_test.drop_mini*(2.*np.pi/60))\n",
        "\n",
        "# x_test = x_test.drop('drop_month', axis=1)\n",
        "# x_test = x_test.drop('drop_day', axis=1)\n",
        "# x_test = x_test.drop('drop_hour', axis=1)\n",
        "# x_test = x_test.drop('drop_mini', axis=1)"
      ],
      "execution_count": 127,
      "outputs": []
    },
    {
      "cell_type": "markdown",
      "metadata": {
        "pycharm": {
          "name": "#%% md\n"
        },
        "id": "bpeJTML2vMg_",
        "colab_type": "text"
      },
      "source": [
        "# ~~Line distanece~~"
      ]
    },
    {
      "cell_type": "code",
      "metadata": {
        "pycharm": {
          "name": "#%%\n"
        },
        "id": "dcVk9wabvMhA",
        "colab_type": "code",
        "colab": {}
      },
      "source": [
        "# x['distance'] = (x['drop_lat']- x['pick_lat'])**2 + (x['drop_lon'] - x['pick_lon'])**2\n",
        "# x_test['distance'] = (x_test['drop_lat']- x_test['pick_lat'])**2 + (x_test['drop_lon'] - x_test['pick_lon'])**2"
      ],
      "execution_count": 128,
      "outputs": []
    },
    {
      "cell_type": "markdown",
      "metadata": {
        "pycharm": {
          "name": "#%% md\n"
        },
        "id": "5yI9yMuevMhF",
        "colab_type": "text"
      },
      "source": [
        "# Get distance"
      ]
    },
    {
      "cell_type": "code",
      "metadata": {
        "pycharm": {
          "name": "#%%\n"
        },
        "id": "CPKXF6tHvMhF",
        "colab_type": "code",
        "colab": {}
      },
      "source": [
        "def get_real_distance(lat1, lon1, lat2, lon2):\n",
        "    R = 6373.0\n",
        "\n",
        "    lat1 = np.radians(lat1)\n",
        "    lat2 = np.radians(lat2)\n",
        "    lon1 = np.radians(lon1)\n",
        "    lon2 = np.radians(lon2)\n",
        "\n",
        "    lat_diff = lat2 - lat1\n",
        "    lon_diff = lon2 - lon1\n",
        "\n",
        "    a = np.sin(lat_diff/2)**2 + np.cos(lat1)*np.cos(lat2)*np.sin(lon_diff/2)**2\n",
        "    c = 2*np.arctan2(np.sqrt(a),np.sqrt(1-a))\n",
        "    return R*c\n",
        "\n",
        "x['distance'] = get_real_distance(x['pick_lat'],x['pick_lon'],x['drop_lat'],x['drop_lon'])\n",
        "x_test['distance'] = get_real_distance(x_test['pick_lat'],x_test['pick_lon'],x_test['drop_lat'],x_test['drop_lon'])"
      ],
      "execution_count": 129,
      "outputs": []
    },
    {
      "cell_type": "markdown",
      "metadata": {
        "id": "5w7lVpDD1qgl",
        "colab_type": "text"
      },
      "source": [
        "#~~ Mobile time feature~~"
      ]
    },
    {
      "cell_type": "code",
      "metadata": {
        "id": "VI4HtHGMwgBa",
        "colab_type": "code",
        "colab": {}
      },
      "source": [
        "# x['mobile_time'] = x['duration'] - x['meter_waiting']\n",
        "# x_test['mobile_time'] = x_test['duration'] - x_test['meter_waiting']"
      ],
      "execution_count": 130,
      "outputs": []
    },
    {
      "cell_type": "markdown",
      "metadata": {
        "id": "eFNmZwVt1qdY",
        "colab_type": "text"
      },
      "source": [
        "# ~~Fare for mobile time feature~~"
      ]
    },
    {
      "cell_type": "code",
      "metadata": {
        "id": "X2tSTxjU2bd1",
        "colab_type": "code",
        "colab": {}
      },
      "source": [
        "# x['fare_4_mobile_time'] = x['fare'] - x['meter_waiting_fare'] - x['additional_fare']\n",
        "# x_test['fare_4_mobile_time'] = x_test['fare'] - x_test['meter_waiting_fare'] -  x_test['additional_fare']"
      ],
      "execution_count": 131,
      "outputs": []
    },
    {
      "cell_type": "markdown",
      "metadata": {
        "id": "CuNsZpFlnPy-",
        "colab_type": "text"
      },
      "source": [
        "# ~~ Average speed ~~"
      ]
    },
    {
      "cell_type": "code",
      "metadata": {
        "id": "kADtd3XInTIw",
        "colab_type": "code",
        "colab": {}
      },
      "source": [
        "# def higher_average_speed(dis, dur):\n",
        "#   if dur==0:\n",
        "#     spd = 10000\n",
        "#   else:\n",
        "#     spd = dis/dur\n",
        "#   if spd > 500 and spd <1:\n",
        "#     return 0\n",
        "#   else:\n",
        "#     return 1\n"
      ],
      "execution_count": 132,
      "outputs": []
    },
    {
      "cell_type": "code",
      "metadata": {
        "id": "u3K6jOCm9N7k",
        "colab_type": "code",
        "colab": {}
      },
      "source": [
        "# x['higher_speed'] = x.apply(lambda x: higher_average_speed(x.distance, x.duration), axis=1)\n",
        "# x_test['higher_speed'] = x_test.apply(lambda x: higher_average_speed(x.distance, x.duration), axis=1)"
      ],
      "execution_count": 133,
      "outputs": []
    },
    {
      "cell_type": "markdown",
      "metadata": {
        "id": "54LUAqb2vMhZ",
        "colab_type": "text"
      },
      "source": [
        "# Drop columns"
      ]
    },
    {
      "cell_type": "code",
      "metadata": {
        "pycharm": {
          "name": "#%%\n"
        },
        "id": "5EkVOzq4vMha",
        "colab_type": "code",
        "colab": {}
      },
      "source": [
        "trip_id_no_norm = x_test['tripid']\n",
        "# 'tripid'\n",
        "# 'additional_fare'\n",
        "# duration\n",
        "# meter_waiting\n",
        "# meter_waiting_fare\n",
        "# meter_waiting_till_pickup\n",
        "# pickup_time\n",
        "# drop_time\n",
        "# pick_lat\n",
        "# pick_lon\n",
        "# drop_lat\n",
        "# drop_lon\n",
        "# fare\n",
        "\n",
        "# x = x.drop('label', axis=1)\n",
        "\n",
        "x = x.drop('pickup_time', axis=1)\n",
        "x = x.drop('drop_time', axis=1)\n",
        "# x = x.drop('additional_fare', axis=1)\n",
        "# x = x.drop('duration', axis=1)\n",
        "# x = x.drop('meter_waiting', axis=1)\n",
        "# x = x.drop('meter_waiting_fare', axis=1)\n",
        "# x = x.drop('meter_waiting_till_pickup', axis=1)\n",
        "x = x.drop('tripid', axis=1)\n",
        "x = x.drop(['pick_lat','drop_lat','pick_lon','drop_lon'], axis=1) #'pickup_time', 'drop_time',\n",
        "# x = x.drop('meter_waiting_till_pickup', axis=1)\n",
        "\n",
        "x_test = x_test.drop('pickup_time', axis=1)\n",
        "x_test = x_test.drop('drop_time', axis=1)\n",
        "# x_test = x_test.drop('additional_fare', axis=1)\n",
        "# x_test = x_test.drop('duration', axis=1)\n",
        "# x_test = x_test.drop('meter_waiting', axis=1)\n",
        "# x_test = x_test.drop('meter_waiting_fare', axis=1)\n",
        "# x_test = x_test.drop('meter_waiting_till_pickup', axis=1)\n",
        "x_test = x_test.drop('tripid', axis=1)\n",
        "x_test = x_test.drop(['pick_lat','drop_lat','pick_lon','drop_lon'], axis=1) #'pickup_time', 'drop_time',\n",
        "# x_test = x_test.drop('meter_waiting_till_pickup', axis=1)"
      ],
      "execution_count": 134,
      "outputs": []
    },
    {
      "cell_type": "code",
      "metadata": {
        "id": "uB4AqA3qsh_r",
        "colab_type": "code",
        "colab": {
          "base_uri": "https://localhost:8080/",
          "height": 33
        },
        "outputId": "4a9fd3ab-fc2b-4fd2-bac7-e432897bf31c"
      },
      "source": [
        "x.shape"
      ],
      "execution_count": 135,
      "outputs": [
        {
          "output_type": "execute_result",
          "data": {
            "text/plain": [
              "(16968, 9)"
            ]
          },
          "metadata": {
            "tags": []
          },
          "execution_count": 135
        }
      ]
    },
    {
      "cell_type": "markdown",
      "metadata": {
        "id": "tn-f1XYjvMhe",
        "colab_type": "text"
      },
      "source": [
        "# Normalize data"
      ]
    },
    {
      "cell_type": "code",
      "metadata": {
        "pycharm": {
          "name": "#%%\n"
        },
        "id": "iABuMOPFvMhf",
        "colab_type": "code",
        "colab": {}
      },
      "source": [
        "# x_mean = x.mean()\n",
        "# x_std = x.std()\n",
        "# x_norm = (x - x_mean)/x_std\n",
        "# x = x_norm\n",
        "\n",
        "# for i in x.columns[1:]:\n",
        "#     i_mean = x[i].mean()\n",
        "#     i_std = x[i].std()\n",
        "#     i_norm = (x[i] - i_mean)/i_std\n",
        "#     x[i] = i_norm\n",
        "\n",
        "# i_mean = x['pickup_time_new'].mean()\n",
        "# i_std = x['pickup_time_new'].std()\n",
        "# i_norm = (x['pickup_time_new'] - i_mean)/i_std\n",
        "# x['pickup_time_new'] = i_norm\n",
        "\n",
        "# i_mean = x_test['pickup_time_new'].mean()\n",
        "# i_std = x_test['pickup_time_new'].std()\n",
        "# i_norm = (x_test['pickup_time_new'] - i_mean)/i_std\n",
        "# x_test['pickup_time_new'] = i_norm\n",
        "\n",
        "# x_test_mean = x_test.mean()\n",
        "# x_test_std = x_test.std()\n",
        "# x_test_norm = (x_test - x_test_mean)/x_test_std\n",
        "# x_test = x_test_norm\n",
        "\n",
        "# for i in x_test.columns[1:]:\n",
        "#     i_mean = x_test[i].mean()\n",
        "#     i_std = x_test[i].std()\n",
        "#     i_norm = (x_test[i] - i_mean)/i_std\n",
        "#     x_test[i] = i_norm\n",
        "\n",
        "# i_mean = x['drop_time_new'].mean()\n",
        "# i_std = x['drop_time_new'].std()\n",
        "# i_norm = (x['drop_time_new'] - i_mean)/i_std\n",
        "# x['drop_time_new'] = i_norm\n",
        "\n",
        "# i_mean = x_test['drop_time_new'].mean()\n",
        "# i_std = x_test['drop_time_new'].std()\n",
        "# i_norm = (x_test['drop_time_new'] - i_mean)/i_std\n",
        "# x_test['drop_time_new'] = i_norm"
      ],
      "execution_count": 136,
      "outputs": []
    },
    {
      "cell_type": "markdown",
      "metadata": {
        "id": "MHNVCy5eAVFQ",
        "colab_type": "text"
      },
      "source": [
        "#standard scaler"
      ]
    },
    {
      "cell_type": "code",
      "metadata": {
        "id": "k1EybgPz_LVy",
        "colab_type": "code",
        "colab": {}
      },
      "source": [
        "# from sklearn.preprocessing import StandardScaler\n",
        "# scaler = StandardScaler()\n",
        "# scaler.fit(x)\n",
        "\n",
        "# x = scaler.transform(x)\n",
        "# x_test = scaler.transform(x_test)"
      ],
      "execution_count": 137,
      "outputs": []
    },
    {
      "cell_type": "code",
      "metadata": {
        "id": "gUZlviF3vJYF",
        "colab_type": "code",
        "colab": {}
      },
      "source": [
        "# import seaborn as sns\n",
        "# sns.boxplot(x=x['distance'])"
      ],
      "execution_count": 138,
      "outputs": []
    },
    {
      "cell_type": "code",
      "metadata": {
        "id": "vKoUcLRElaHr",
        "colab_type": "code",
        "colab": {}
      },
      "source": [
        "# x.max()"
      ],
      "execution_count": 139,
      "outputs": []
    },
    {
      "cell_type": "code",
      "metadata": {
        "id": "9P34MBgJlbr0",
        "colab_type": "code",
        "colab": {}
      },
      "source": [
        "# x_test.max()"
      ],
      "execution_count": 140,
      "outputs": []
    },
    {
      "cell_type": "code",
      "metadata": {
        "id": "927W4zLa-rW5",
        "colab_type": "code",
        "colab": {}
      },
      "source": [
        "# x.describe()"
      ],
      "execution_count": 141,
      "outputs": []
    },
    {
      "cell_type": "code",
      "metadata": {
        "id": "Udzdftouikix",
        "colab_type": "code",
        "colab": {}
      },
      "source": [
        "# x_test.describe()"
      ],
      "execution_count": 142,
      "outputs": []
    },
    {
      "cell_type": "code",
      "metadata": {
        "id": "AQld11lHywUC",
        "colab_type": "code",
        "colab": {}
      },
      "source": [
        "# np.sum(x['meter_waiting_fare'] > x['fare'])"
      ],
      "execution_count": 143,
      "outputs": []
    },
    {
      "cell_type": "code",
      "metadata": {
        "id": "v2fJD5xeqdTZ",
        "colab_type": "code",
        "colab": {}
      },
      "source": [
        "# x['mobile_time'] = x['duration'] - x['meter_waiting']\n",
        "# x_test['mobile_time'] = x_test['duration'] - x_test['meter_waiting']"
      ],
      "execution_count": 144,
      "outputs": []
    },
    {
      "cell_type": "markdown",
      "metadata": {
        "id": "VaFnmBRWCOPk",
        "colab_type": "text"
      },
      "source": [
        "# Remove outliers\n",
        "\n",
        "\n"
      ]
    },
    {
      "cell_type": "code",
      "metadata": {
        "id": "XIFVj-kPB87I",
        "colab_type": "code",
        "colab": {}
      },
      "source": [
        "# from scipy import stats\n",
        "# # x_ = x[(np.abs(stats.zscore(x.loc[:, x.columns != 'label'])) < 3).all(axis=1)]\n",
        "# x_test_ = x_test[(np.abs(stats.zscore(x_test)) < 3).all(axis=1)]\n",
        "\n",
        "# x_ = x[(np.abs(stats.zscore(x['additional_fare'])) < 3)]\n",
        "# x_test_ = x_test[(np.abs(stats.zscore(x_test['additional_fare'])) < 3)]"
      ],
      "execution_count": 145,
      "outputs": []
    },
    {
      "cell_type": "code",
      "metadata": {
        "id": "IWIfd8tmd9IU",
        "colab_type": "code",
        "colab": {}
      },
      "source": [
        "# x_.max()"
      ],
      "execution_count": 146,
      "outputs": []
    },
    {
      "cell_type": "code",
      "metadata": {
        "id": "wA4V7ZViefym",
        "colab_type": "code",
        "colab": {}
      },
      "source": [
        "# x_test_.max()"
      ],
      "execution_count": 147,
      "outputs": []
    },
    {
      "cell_type": "markdown",
      "metadata": {
        "id": "OZ4G58b8uPHl",
        "colab_type": "text"
      },
      "source": [
        "# Label Outliers"
      ]
    },
    {
      "cell_type": "code",
      "metadata": {
        "id": "k99l-Qf_uS6g",
        "colab_type": "code",
        "colab": {}
      },
      "source": [
        "# from scipy import stats\n",
        "# x['fare_ok'] = np.where(np.abs(stats.zscore(x['fare']))<3,1,0)\n",
        "# x_test['fare_ok'] = np.where(np.abs(stats.zscore(x_test['fare']))<3,1,0)\n",
        "\n",
        "# x['additional_fare_ok'] = np.where(np.abs(stats.zscore(x['additional_fare']))<5,1,0)\n",
        "# x_test['additional_fare_ok'] = np.where(np.abs(stats.zscore(x_test['additional_fare']))<5,1,0)\n",
        "\n",
        "# x.loc[not np.abs(stats.zscore(x['fare']))>3, 'fare'] = 0\n",
        "# x.loc[np.abs(stats.zscore(x['meter_waiting']))>3, 'meter_waiting'] = x['meter_waiting'].mean()\n",
        "# x.loc[np.abs(stats.zscore(x['meter_waiting_fare']))>3, 'meter_waiting_fare'] = x['meter_waiting_fare'].mean()\n",
        "# x.loc[np.abs(stats.zscore(x['meter_waiting_till_pickup']))>3, 'meter_waiting_till_pickup'] = x['meter_waiting_till_pickup'].mean()\n",
        "# x.loc[np.abs(stats.zscore(x['fare']))>3, 'fare'] = x['fare'].mean()\n",
        "# x.loc[np.abs(stats.zscore(x['distance']))>3, 'distance'] = x['distance'].mean()\n",
        "\n",
        "# x['additional_fare'].clip_upper(x_['additional_fare'].max())\n",
        "# x_test['additional_fare'].clip_upper(x_test_['additional_fare'].max())\n",
        "\n",
        "# x.loc[(np.abs(stats.zscore(x.loc[:, x.columns != 'label']))>3), x] = x_.max()\n",
        "# x_test.loc[(np.abs(stats.zscore(x_test))>3), x_test] = x_test_.max()\n"
      ],
      "execution_count": 148,
      "outputs": []
    },
    {
      "cell_type": "code",
      "metadata": {
        "id": "_grQBsuEsvf5",
        "colab_type": "code",
        "colab": {}
      },
      "source": [
        "# x.fare_ok.value_counts()\n",
        "# x.additional_fare_ok.value_counts()\n"
      ],
      "execution_count": 149,
      "outputs": []
    },
    {
      "cell_type": "code",
      "metadata": {
        "id": "2pmdQgbIwiPX",
        "colab_type": "code",
        "colab": {}
      },
      "source": [
        "# x_test.fare_ok.value_counts()\n",
        "# x_test.additional_fare_ok.value_counts()"
      ],
      "execution_count": 150,
      "outputs": []
    },
    {
      "cell_type": "markdown",
      "metadata": {
        "pycharm": {
          "name": "#%% md\n"
        },
        "id": "XPu62TirvMgr",
        "colab_type": "text"
      },
      "source": [
        "# y"
      ]
    },
    {
      "cell_type": "code",
      "metadata": {
        "pycharm": {
          "name": "#%%\n"
        },
        "id": "FttDdiP3vMgs",
        "colab_type": "code",
        "colab": {}
      },
      "source": [
        "y = x['label']"
      ],
      "execution_count": 151,
      "outputs": []
    },
    {
      "cell_type": "markdown",
      "metadata": {
        "id": "xibDRCP9vMhk",
        "colab_type": "text"
      },
      "source": [
        "# Preprocessed DataFrame"
      ]
    },
    {
      "cell_type": "code",
      "metadata": {
        "pycharm": {
          "name": "#%%\n"
        },
        "id": "TUu5Z5vqvMhl",
        "colab_type": "code",
        "colab": {
          "base_uri": "https://localhost:8080/",
          "height": 391
        },
        "outputId": "57d56337-a17c-4b94-e4ad-5b971d263970"
      },
      "source": [
        "x"
      ],
      "execution_count": 152,
      "outputs": [
        {
          "output_type": "execute_result",
          "data": {
            "text/html": [
              "<div>\n",
              "<style scoped>\n",
              "    .dataframe tbody tr th:only-of-type {\n",
              "        vertical-align: middle;\n",
              "    }\n",
              "\n",
              "    .dataframe tbody tr th {\n",
              "        vertical-align: top;\n",
              "    }\n",
              "\n",
              "    .dataframe thead th {\n",
              "        text-align: right;\n",
              "    }\n",
              "</style>\n",
              "<table border=\"1\" class=\"dataframe\">\n",
              "  <thead>\n",
              "    <tr style=\"text-align: right;\">\n",
              "      <th></th>\n",
              "      <th>additional_fare</th>\n",
              "      <th>duration</th>\n",
              "      <th>meter_waiting</th>\n",
              "      <th>meter_waiting_fare</th>\n",
              "      <th>meter_waiting_till_pickup</th>\n",
              "      <th>fare</th>\n",
              "      <th>label</th>\n",
              "      <th>pick_drop_date_diff</th>\n",
              "      <th>distance</th>\n",
              "    </tr>\n",
              "  </thead>\n",
              "  <tbody>\n",
              "    <tr>\n",
              "      <th>0</th>\n",
              "      <td>10.5</td>\n",
              "      <td>834.0</td>\n",
              "      <td>56.0</td>\n",
              "      <td>0.0000</td>\n",
              "      <td>64.0</td>\n",
              "      <td>270.32</td>\n",
              "      <td>1</td>\n",
              "      <td>0</td>\n",
              "      <td>5.094369</td>\n",
              "    </tr>\n",
              "    <tr>\n",
              "      <th>1</th>\n",
              "      <td>10.5</td>\n",
              "      <td>791.0</td>\n",
              "      <td>47.0</td>\n",
              "      <td>0.0000</td>\n",
              "      <td>134.0</td>\n",
              "      <td>197.85</td>\n",
              "      <td>1</td>\n",
              "      <td>0</td>\n",
              "      <td>3.169052</td>\n",
              "    </tr>\n",
              "    <tr>\n",
              "      <th>2</th>\n",
              "      <td>10.5</td>\n",
              "      <td>1087.0</td>\n",
              "      <td>80.0</td>\n",
              "      <td>0.0000</td>\n",
              "      <td>61.0</td>\n",
              "      <td>301.64</td>\n",
              "      <td>1</td>\n",
              "      <td>0</td>\n",
              "      <td>6.307375</td>\n",
              "    </tr>\n",
              "    <tr>\n",
              "      <th>3</th>\n",
              "      <td>10.5</td>\n",
              "      <td>598.0</td>\n",
              "      <td>271.0</td>\n",
              "      <td>15.6638</td>\n",
              "      <td>68.0</td>\n",
              "      <td>82.30</td>\n",
              "      <td>1</td>\n",
              "      <td>0</td>\n",
              "      <td>0.862217</td>\n",
              "    </tr>\n",
              "    <tr>\n",
              "      <th>5</th>\n",
              "      <td>10.5</td>\n",
              "      <td>3407.0</td>\n",
              "      <td>182.0</td>\n",
              "      <td>0.0000</td>\n",
              "      <td>112.0</td>\n",
              "      <td>1065.02</td>\n",
              "      <td>1</td>\n",
              "      <td>0</td>\n",
              "      <td>24.214638</td>\n",
              "    </tr>\n",
              "    <tr>\n",
              "      <th>...</th>\n",
              "      <td>...</td>\n",
              "      <td>...</td>\n",
              "      <td>...</td>\n",
              "      <td>...</td>\n",
              "      <td>...</td>\n",
              "      <td>...</td>\n",
              "      <td>...</td>\n",
              "      <td>...</td>\n",
              "      <td>...</td>\n",
              "    </tr>\n",
              "    <tr>\n",
              "      <th>17171</th>\n",
              "      <td>10.5</td>\n",
              "      <td>838.0</td>\n",
              "      <td>93.0</td>\n",
              "      <td>5.4219</td>\n",
              "      <td>451.0</td>\n",
              "      <td>198.26</td>\n",
              "      <td>1</td>\n",
              "      <td>0</td>\n",
              "      <td>2.106037</td>\n",
              "    </tr>\n",
              "    <tr>\n",
              "      <th>17172</th>\n",
              "      <td>10.5</td>\n",
              "      <td>2151.0</td>\n",
              "      <td>428.0</td>\n",
              "      <td>0.0000</td>\n",
              "      <td>39.0</td>\n",
              "      <td>581.23</td>\n",
              "      <td>1</td>\n",
              "      <td>0</td>\n",
              "      <td>10.871789</td>\n",
              "    </tr>\n",
              "    <tr>\n",
              "      <th>17173</th>\n",
              "      <td>10.5</td>\n",
              "      <td>263.0</td>\n",
              "      <td>9.0</td>\n",
              "      <td>0.0000</td>\n",
              "      <td>110.0</td>\n",
              "      <td>76.20</td>\n",
              "      <td>1</td>\n",
              "      <td>0</td>\n",
              "      <td>1.045847</td>\n",
              "    </tr>\n",
              "    <tr>\n",
              "      <th>17174</th>\n",
              "      <td>10.5</td>\n",
              "      <td>858.0</td>\n",
              "      <td>115.0</td>\n",
              "      <td>0.0000</td>\n",
              "      <td>317.0</td>\n",
              "      <td>133.31</td>\n",
              "      <td>1</td>\n",
              "      <td>0</td>\n",
              "      <td>2.879981</td>\n",
              "    </tr>\n",
              "    <tr>\n",
              "      <th>17175</th>\n",
              "      <td>10.5</td>\n",
              "      <td>262.0</td>\n",
              "      <td>21.0</td>\n",
              "      <td>1.2243</td>\n",
              "      <td>23.0</td>\n",
              "      <td>98.57</td>\n",
              "      <td>1</td>\n",
              "      <td>0</td>\n",
              "      <td>2.116539</td>\n",
              "    </tr>\n",
              "  </tbody>\n",
              "</table>\n",
              "<p>16968 rows × 9 columns</p>\n",
              "</div>"
            ],
            "text/plain": [
              "       additional_fare  duration  ...  pick_drop_date_diff   distance\n",
              "0                 10.5     834.0  ...                    0   5.094369\n",
              "1                 10.5     791.0  ...                    0   3.169052\n",
              "2                 10.5    1087.0  ...                    0   6.307375\n",
              "3                 10.5     598.0  ...                    0   0.862217\n",
              "5                 10.5    3407.0  ...                    0  24.214638\n",
              "...                ...       ...  ...                  ...        ...\n",
              "17171             10.5     838.0  ...                    0   2.106037\n",
              "17172             10.5    2151.0  ...                    0  10.871789\n",
              "17173             10.5     263.0  ...                    0   1.045847\n",
              "17174             10.5     858.0  ...                    0   2.879981\n",
              "17175             10.5     262.0  ...                    0   2.116539\n",
              "\n",
              "[16968 rows x 9 columns]"
            ]
          },
          "metadata": {
            "tags": []
          },
          "execution_count": 152
        }
      ]
    },
    {
      "cell_type": "code",
      "metadata": {
        "id": "REVva0-FfHuX",
        "colab_type": "code",
        "colab": {
          "base_uri": "https://localhost:8080/",
          "height": 306
        },
        "outputId": "96b0fcec-5833-448c-f31d-350381699c8f"
      },
      "source": [
        "x.corr()"
      ],
      "execution_count": 153,
      "outputs": [
        {
          "output_type": "execute_result",
          "data": {
            "text/html": [
              "<div>\n",
              "<style scoped>\n",
              "    .dataframe tbody tr th:only-of-type {\n",
              "        vertical-align: middle;\n",
              "    }\n",
              "\n",
              "    .dataframe tbody tr th {\n",
              "        vertical-align: top;\n",
              "    }\n",
              "\n",
              "    .dataframe thead th {\n",
              "        text-align: right;\n",
              "    }\n",
              "</style>\n",
              "<table border=\"1\" class=\"dataframe\">\n",
              "  <thead>\n",
              "    <tr style=\"text-align: right;\">\n",
              "      <th></th>\n",
              "      <th>additional_fare</th>\n",
              "      <th>duration</th>\n",
              "      <th>meter_waiting</th>\n",
              "      <th>meter_waiting_fare</th>\n",
              "      <th>meter_waiting_till_pickup</th>\n",
              "      <th>fare</th>\n",
              "      <th>label</th>\n",
              "      <th>pick_drop_date_diff</th>\n",
              "      <th>distance</th>\n",
              "    </tr>\n",
              "  </thead>\n",
              "  <tbody>\n",
              "    <tr>\n",
              "      <th>additional_fare</th>\n",
              "      <td>1.000000</td>\n",
              "      <td>-0.000774</td>\n",
              "      <td>0.197606</td>\n",
              "      <td>0.199606</td>\n",
              "      <td>0.002352</td>\n",
              "      <td>0.315285</td>\n",
              "      <td>-0.041040</td>\n",
              "      <td>-0.001157</td>\n",
              "      <td>-0.000432</td>\n",
              "    </tr>\n",
              "    <tr>\n",
              "      <th>duration</th>\n",
              "      <td>-0.000774</td>\n",
              "      <td>1.000000</td>\n",
              "      <td>0.969788</td>\n",
              "      <td>0.968667</td>\n",
              "      <td>0.040577</td>\n",
              "      <td>0.865256</td>\n",
              "      <td>-0.113149</td>\n",
              "      <td>0.430620</td>\n",
              "      <td>0.012872</td>\n",
              "    </tr>\n",
              "    <tr>\n",
              "      <th>meter_waiting</th>\n",
              "      <td>0.197606</td>\n",
              "      <td>0.969788</td>\n",
              "      <td>1.000000</td>\n",
              "      <td>0.999474</td>\n",
              "      <td>0.030450</td>\n",
              "      <td>0.870126</td>\n",
              "      <td>-0.107379</td>\n",
              "      <td>0.412393</td>\n",
              "      <td>0.004354</td>\n",
              "    </tr>\n",
              "    <tr>\n",
              "      <th>meter_waiting_fare</th>\n",
              "      <td>0.199606</td>\n",
              "      <td>0.968667</td>\n",
              "      <td>0.999474</td>\n",
              "      <td>1.000000</td>\n",
              "      <td>0.029911</td>\n",
              "      <td>0.865073</td>\n",
              "      <td>-0.103418</td>\n",
              "      <td>0.410323</td>\n",
              "      <td>0.003912</td>\n",
              "    </tr>\n",
              "    <tr>\n",
              "      <th>meter_waiting_till_pickup</th>\n",
              "      <td>0.002352</td>\n",
              "      <td>0.040577</td>\n",
              "      <td>0.030450</td>\n",
              "      <td>0.029911</td>\n",
              "      <td>1.000000</td>\n",
              "      <td>0.045468</td>\n",
              "      <td>-0.035546</td>\n",
              "      <td>0.033834</td>\n",
              "      <td>0.003078</td>\n",
              "    </tr>\n",
              "    <tr>\n",
              "      <th>fare</th>\n",
              "      <td>0.315285</td>\n",
              "      <td>0.865256</td>\n",
              "      <td>0.870126</td>\n",
              "      <td>0.865073</td>\n",
              "      <td>0.045468</td>\n",
              "      <td>1.000000</td>\n",
              "      <td>-0.183861</td>\n",
              "      <td>0.402437</td>\n",
              "      <td>0.033631</td>\n",
              "    </tr>\n",
              "    <tr>\n",
              "      <th>label</th>\n",
              "      <td>-0.041040</td>\n",
              "      <td>-0.113149</td>\n",
              "      <td>-0.107379</td>\n",
              "      <td>-0.103418</td>\n",
              "      <td>-0.035546</td>\n",
              "      <td>-0.183861</td>\n",
              "      <td>1.000000</td>\n",
              "      <td>-0.092040</td>\n",
              "      <td>0.000714</td>\n",
              "    </tr>\n",
              "    <tr>\n",
              "      <th>pick_drop_date_diff</th>\n",
              "      <td>-0.001157</td>\n",
              "      <td>0.430620</td>\n",
              "      <td>0.412393</td>\n",
              "      <td>0.410323</td>\n",
              "      <td>0.033834</td>\n",
              "      <td>0.402437</td>\n",
              "      <td>-0.092040</td>\n",
              "      <td>1.000000</td>\n",
              "      <td>0.010453</td>\n",
              "    </tr>\n",
              "    <tr>\n",
              "      <th>distance</th>\n",
              "      <td>-0.000432</td>\n",
              "      <td>0.012872</td>\n",
              "      <td>0.004354</td>\n",
              "      <td>0.003912</td>\n",
              "      <td>0.003078</td>\n",
              "      <td>0.033631</td>\n",
              "      <td>0.000714</td>\n",
              "      <td>0.010453</td>\n",
              "      <td>1.000000</td>\n",
              "    </tr>\n",
              "  </tbody>\n",
              "</table>\n",
              "</div>"
            ],
            "text/plain": [
              "                           additional_fare  ...  distance\n",
              "additional_fare                   1.000000  ... -0.000432\n",
              "duration                         -0.000774  ...  0.012872\n",
              "meter_waiting                     0.197606  ...  0.004354\n",
              "meter_waiting_fare                0.199606  ...  0.003912\n",
              "meter_waiting_till_pickup         0.002352  ...  0.003078\n",
              "fare                              0.315285  ...  0.033631\n",
              "label                            -0.041040  ...  0.000714\n",
              "pick_drop_date_diff              -0.001157  ...  0.010453\n",
              "distance                         -0.000432  ...  1.000000\n",
              "\n",
              "[9 rows x 9 columns]"
            ]
          },
          "metadata": {
            "tags": []
          },
          "execution_count": 153
        }
      ]
    },
    {
      "cell_type": "code",
      "metadata": {
        "id": "XiU0-XMLgZMP",
        "colab_type": "code",
        "colab": {}
      },
      "source": [
        "x = x.drop('label', axis=1)"
      ],
      "execution_count": 154,
      "outputs": []
    },
    {
      "cell_type": "code",
      "metadata": {
        "id": "Yq9Cvc-NUGSV",
        "colab_type": "code",
        "colab": {
          "base_uri": "https://localhost:8080/",
          "height": 391
        },
        "outputId": "7ca34e8f-964e-4ac7-d9c3-0e8764da374e"
      },
      "source": [
        "x"
      ],
      "execution_count": 155,
      "outputs": [
        {
          "output_type": "execute_result",
          "data": {
            "text/html": [
              "<div>\n",
              "<style scoped>\n",
              "    .dataframe tbody tr th:only-of-type {\n",
              "        vertical-align: middle;\n",
              "    }\n",
              "\n",
              "    .dataframe tbody tr th {\n",
              "        vertical-align: top;\n",
              "    }\n",
              "\n",
              "    .dataframe thead th {\n",
              "        text-align: right;\n",
              "    }\n",
              "</style>\n",
              "<table border=\"1\" class=\"dataframe\">\n",
              "  <thead>\n",
              "    <tr style=\"text-align: right;\">\n",
              "      <th></th>\n",
              "      <th>additional_fare</th>\n",
              "      <th>duration</th>\n",
              "      <th>meter_waiting</th>\n",
              "      <th>meter_waiting_fare</th>\n",
              "      <th>meter_waiting_till_pickup</th>\n",
              "      <th>fare</th>\n",
              "      <th>pick_drop_date_diff</th>\n",
              "      <th>distance</th>\n",
              "    </tr>\n",
              "  </thead>\n",
              "  <tbody>\n",
              "    <tr>\n",
              "      <th>0</th>\n",
              "      <td>10.5</td>\n",
              "      <td>834.0</td>\n",
              "      <td>56.0</td>\n",
              "      <td>0.0000</td>\n",
              "      <td>64.0</td>\n",
              "      <td>270.32</td>\n",
              "      <td>0</td>\n",
              "      <td>5.094369</td>\n",
              "    </tr>\n",
              "    <tr>\n",
              "      <th>1</th>\n",
              "      <td>10.5</td>\n",
              "      <td>791.0</td>\n",
              "      <td>47.0</td>\n",
              "      <td>0.0000</td>\n",
              "      <td>134.0</td>\n",
              "      <td>197.85</td>\n",
              "      <td>0</td>\n",
              "      <td>3.169052</td>\n",
              "    </tr>\n",
              "    <tr>\n",
              "      <th>2</th>\n",
              "      <td>10.5</td>\n",
              "      <td>1087.0</td>\n",
              "      <td>80.0</td>\n",
              "      <td>0.0000</td>\n",
              "      <td>61.0</td>\n",
              "      <td>301.64</td>\n",
              "      <td>0</td>\n",
              "      <td>6.307375</td>\n",
              "    </tr>\n",
              "    <tr>\n",
              "      <th>3</th>\n",
              "      <td>10.5</td>\n",
              "      <td>598.0</td>\n",
              "      <td>271.0</td>\n",
              "      <td>15.6638</td>\n",
              "      <td>68.0</td>\n",
              "      <td>82.30</td>\n",
              "      <td>0</td>\n",
              "      <td>0.862217</td>\n",
              "    </tr>\n",
              "    <tr>\n",
              "      <th>5</th>\n",
              "      <td>10.5</td>\n",
              "      <td>3407.0</td>\n",
              "      <td>182.0</td>\n",
              "      <td>0.0000</td>\n",
              "      <td>112.0</td>\n",
              "      <td>1065.02</td>\n",
              "      <td>0</td>\n",
              "      <td>24.214638</td>\n",
              "    </tr>\n",
              "    <tr>\n",
              "      <th>...</th>\n",
              "      <td>...</td>\n",
              "      <td>...</td>\n",
              "      <td>...</td>\n",
              "      <td>...</td>\n",
              "      <td>...</td>\n",
              "      <td>...</td>\n",
              "      <td>...</td>\n",
              "      <td>...</td>\n",
              "    </tr>\n",
              "    <tr>\n",
              "      <th>17171</th>\n",
              "      <td>10.5</td>\n",
              "      <td>838.0</td>\n",
              "      <td>93.0</td>\n",
              "      <td>5.4219</td>\n",
              "      <td>451.0</td>\n",
              "      <td>198.26</td>\n",
              "      <td>0</td>\n",
              "      <td>2.106037</td>\n",
              "    </tr>\n",
              "    <tr>\n",
              "      <th>17172</th>\n",
              "      <td>10.5</td>\n",
              "      <td>2151.0</td>\n",
              "      <td>428.0</td>\n",
              "      <td>0.0000</td>\n",
              "      <td>39.0</td>\n",
              "      <td>581.23</td>\n",
              "      <td>0</td>\n",
              "      <td>10.871789</td>\n",
              "    </tr>\n",
              "    <tr>\n",
              "      <th>17173</th>\n",
              "      <td>10.5</td>\n",
              "      <td>263.0</td>\n",
              "      <td>9.0</td>\n",
              "      <td>0.0000</td>\n",
              "      <td>110.0</td>\n",
              "      <td>76.20</td>\n",
              "      <td>0</td>\n",
              "      <td>1.045847</td>\n",
              "    </tr>\n",
              "    <tr>\n",
              "      <th>17174</th>\n",
              "      <td>10.5</td>\n",
              "      <td>858.0</td>\n",
              "      <td>115.0</td>\n",
              "      <td>0.0000</td>\n",
              "      <td>317.0</td>\n",
              "      <td>133.31</td>\n",
              "      <td>0</td>\n",
              "      <td>2.879981</td>\n",
              "    </tr>\n",
              "    <tr>\n",
              "      <th>17175</th>\n",
              "      <td>10.5</td>\n",
              "      <td>262.0</td>\n",
              "      <td>21.0</td>\n",
              "      <td>1.2243</td>\n",
              "      <td>23.0</td>\n",
              "      <td>98.57</td>\n",
              "      <td>0</td>\n",
              "      <td>2.116539</td>\n",
              "    </tr>\n",
              "  </tbody>\n",
              "</table>\n",
              "<p>16968 rows × 8 columns</p>\n",
              "</div>"
            ],
            "text/plain": [
              "       additional_fare  duration  ...  pick_drop_date_diff   distance\n",
              "0                 10.5     834.0  ...                    0   5.094369\n",
              "1                 10.5     791.0  ...                    0   3.169052\n",
              "2                 10.5    1087.0  ...                    0   6.307375\n",
              "3                 10.5     598.0  ...                    0   0.862217\n",
              "5                 10.5    3407.0  ...                    0  24.214638\n",
              "...                ...       ...  ...                  ...        ...\n",
              "17171             10.5     838.0  ...                    0   2.106037\n",
              "17172             10.5    2151.0  ...                    0  10.871789\n",
              "17173             10.5     263.0  ...                    0   1.045847\n",
              "17174             10.5     858.0  ...                    0   2.879981\n",
              "17175             10.5     262.0  ...                    0   2.116539\n",
              "\n",
              "[16968 rows x 8 columns]"
            ]
          },
          "metadata": {
            "tags": []
          },
          "execution_count": 155
        }
      ]
    },
    {
      "cell_type": "code",
      "metadata": {
        "pycharm": {
          "name": "#%%\n"
        },
        "id": "VURt5SddvMhp",
        "colab_type": "code",
        "colab": {
          "base_uri": "https://localhost:8080/",
          "height": 391
        },
        "outputId": "66660d45-1022-4a79-c239-b8c8a6350c84"
      },
      "source": [
        "x_test"
      ],
      "execution_count": 156,
      "outputs": [
        {
          "output_type": "execute_result",
          "data": {
            "text/html": [
              "<div>\n",
              "<style scoped>\n",
              "    .dataframe tbody tr th:only-of-type {\n",
              "        vertical-align: middle;\n",
              "    }\n",
              "\n",
              "    .dataframe tbody tr th {\n",
              "        vertical-align: top;\n",
              "    }\n",
              "\n",
              "    .dataframe thead th {\n",
              "        text-align: right;\n",
              "    }\n",
              "</style>\n",
              "<table border=\"1\" class=\"dataframe\">\n",
              "  <thead>\n",
              "    <tr style=\"text-align: right;\">\n",
              "      <th></th>\n",
              "      <th>additional_fare</th>\n",
              "      <th>duration</th>\n",
              "      <th>meter_waiting</th>\n",
              "      <th>meter_waiting_fare</th>\n",
              "      <th>meter_waiting_till_pickup</th>\n",
              "      <th>fare</th>\n",
              "      <th>pick_drop_date_diff</th>\n",
              "      <th>distance</th>\n",
              "    </tr>\n",
              "  </thead>\n",
              "  <tbody>\n",
              "    <tr>\n",
              "      <th>0</th>\n",
              "      <td>10.5</td>\n",
              "      <td>924</td>\n",
              "      <td>42</td>\n",
              "      <td>2.44860</td>\n",
              "      <td>148</td>\n",
              "      <td>289.27</td>\n",
              "      <td>0</td>\n",
              "      <td>6.707807</td>\n",
              "    </tr>\n",
              "    <tr>\n",
              "      <th>1</th>\n",
              "      <td>10.5</td>\n",
              "      <td>4249</td>\n",
              "      <td>20</td>\n",
              "      <td>0.00000</td>\n",
              "      <td>91</td>\n",
              "      <td>1912.70</td>\n",
              "      <td>0</td>\n",
              "      <td>41.571559</td>\n",
              "    </tr>\n",
              "    <tr>\n",
              "      <th>2</th>\n",
              "      <td>10.5</td>\n",
              "      <td>1552</td>\n",
              "      <td>255</td>\n",
              "      <td>2.65880</td>\n",
              "      <td>23</td>\n",
              "      <td>394.00</td>\n",
              "      <td>0</td>\n",
              "      <td>5.918535</td>\n",
              "    </tr>\n",
              "    <tr>\n",
              "      <th>3</th>\n",
              "      <td>10.5</td>\n",
              "      <td>462</td>\n",
              "      <td>16</td>\n",
              "      <td>0.00000</td>\n",
              "      <td>198</td>\n",
              "      <td>154.32</td>\n",
              "      <td>0</td>\n",
              "      <td>3.302798</td>\n",
              "    </tr>\n",
              "    <tr>\n",
              "      <th>4</th>\n",
              "      <td>10.5</td>\n",
              "      <td>814</td>\n",
              "      <td>392</td>\n",
              "      <td>12.36920</td>\n",
              "      <td>69</td>\n",
              "      <td>147.47</td>\n",
              "      <td>0</td>\n",
              "      <td>2.589354</td>\n",
              "    </tr>\n",
              "    <tr>\n",
              "      <th>...</th>\n",
              "      <td>...</td>\n",
              "      <td>...</td>\n",
              "      <td>...</td>\n",
              "      <td>...</td>\n",
              "      <td>...</td>\n",
              "      <td>...</td>\n",
              "      <td>...</td>\n",
              "      <td>...</td>\n",
              "    </tr>\n",
              "    <tr>\n",
              "      <th>8571</th>\n",
              "      <td>10.5</td>\n",
              "      <td>1723</td>\n",
              "      <td>429</td>\n",
              "      <td>24.83332</td>\n",
              "      <td>3</td>\n",
              "      <td>388.48</td>\n",
              "      <td>0</td>\n",
              "      <td>3.935507</td>\n",
              "    </tr>\n",
              "    <tr>\n",
              "      <th>8572</th>\n",
              "      <td>10.5</td>\n",
              "      <td>1378</td>\n",
              "      <td>80</td>\n",
              "      <td>0.00000</td>\n",
              "      <td>125</td>\n",
              "      <td>379.85</td>\n",
              "      <td>0</td>\n",
              "      <td>7.519792</td>\n",
              "    </tr>\n",
              "    <tr>\n",
              "      <th>8573</th>\n",
              "      <td>10.5</td>\n",
              "      <td>418</td>\n",
              "      <td>56</td>\n",
              "      <td>3.28440</td>\n",
              "      <td>93</td>\n",
              "      <td>112.79</td>\n",
              "      <td>0</td>\n",
              "      <td>2.057870</td>\n",
              "    </tr>\n",
              "    <tr>\n",
              "      <th>8574</th>\n",
              "      <td>10.5</td>\n",
              "      <td>1604</td>\n",
              "      <td>548</td>\n",
              "      <td>31.67440</td>\n",
              "      <td>17</td>\n",
              "      <td>248.46</td>\n",
              "      <td>0</td>\n",
              "      <td>3.902113</td>\n",
              "    </tr>\n",
              "    <tr>\n",
              "      <th>8575</th>\n",
              "      <td>10.5</td>\n",
              "      <td>1698</td>\n",
              "      <td>691</td>\n",
              "      <td>32.88820</td>\n",
              "      <td>42</td>\n",
              "      <td>339.63</td>\n",
              "      <td>0</td>\n",
              "      <td>5.436976</td>\n",
              "    </tr>\n",
              "  </tbody>\n",
              "</table>\n",
              "<p>8576 rows × 8 columns</p>\n",
              "</div>"
            ],
            "text/plain": [
              "      additional_fare  duration  ...  pick_drop_date_diff   distance\n",
              "0                10.5       924  ...                    0   6.707807\n",
              "1                10.5      4249  ...                    0  41.571559\n",
              "2                10.5      1552  ...                    0   5.918535\n",
              "3                10.5       462  ...                    0   3.302798\n",
              "4                10.5       814  ...                    0   2.589354\n",
              "...               ...       ...  ...                  ...        ...\n",
              "8571             10.5      1723  ...                    0   3.935507\n",
              "8572             10.5      1378  ...                    0   7.519792\n",
              "8573             10.5       418  ...                    0   2.057870\n",
              "8574             10.5      1604  ...                    0   3.902113\n",
              "8575             10.5      1698  ...                    0   5.436976\n",
              "\n",
              "[8576 rows x 8 columns]"
            ]
          },
          "metadata": {
            "tags": []
          },
          "execution_count": 156
        }
      ]
    },
    {
      "cell_type": "code",
      "metadata": {
        "id": "r8d0p4BWow-D",
        "colab_type": "code",
        "colab": {
          "base_uri": "https://localhost:8080/",
          "height": 277
        },
        "outputId": "d37ce89e-33b2-4b61-e05a-c7928228db6c"
      },
      "source": [
        "x.describe()"
      ],
      "execution_count": 157,
      "outputs": [
        {
          "output_type": "execute_result",
          "data": {
            "text/html": [
              "<div>\n",
              "<style scoped>\n",
              "    .dataframe tbody tr th:only-of-type {\n",
              "        vertical-align: middle;\n",
              "    }\n",
              "\n",
              "    .dataframe tbody tr th {\n",
              "        vertical-align: top;\n",
              "    }\n",
              "\n",
              "    .dataframe thead th {\n",
              "        text-align: right;\n",
              "    }\n",
              "</style>\n",
              "<table border=\"1\" class=\"dataframe\">\n",
              "  <thead>\n",
              "    <tr style=\"text-align: right;\">\n",
              "      <th></th>\n",
              "      <th>additional_fare</th>\n",
              "      <th>duration</th>\n",
              "      <th>meter_waiting</th>\n",
              "      <th>meter_waiting_fare</th>\n",
              "      <th>meter_waiting_till_pickup</th>\n",
              "      <th>fare</th>\n",
              "      <th>pick_drop_date_diff</th>\n",
              "      <th>distance</th>\n",
              "    </tr>\n",
              "  </thead>\n",
              "  <tbody>\n",
              "    <tr>\n",
              "      <th>count</th>\n",
              "      <td>16968.000000</td>\n",
              "      <td>16968.000000</td>\n",
              "      <td>16968.000000</td>\n",
              "      <td>16968.000000</td>\n",
              "      <td>16968.000000</td>\n",
              "      <td>16968.000000</td>\n",
              "      <td>16968.000000</td>\n",
              "      <td>16968.000000</td>\n",
              "    </tr>\n",
              "    <tr>\n",
              "      <th>mean</th>\n",
              "      <td>13.721437</td>\n",
              "      <td>1702.836987</td>\n",
              "      <td>628.875000</td>\n",
              "      <td>32.045122</td>\n",
              "      <td>112.489510</td>\n",
              "      <td>312.657884</td>\n",
              "      <td>0.006777</td>\n",
              "      <td>4.856351</td>\n",
              "    </tr>\n",
              "    <tr>\n",
              "      <th>std</th>\n",
              "      <td>98.992493</td>\n",
              "      <td>8121.556167</td>\n",
              "      <td>8064.657846</td>\n",
              "      <td>465.564240</td>\n",
              "      <td>442.129943</td>\n",
              "      <td>606.372103</td>\n",
              "      <td>0.082048</td>\n",
              "      <td>43.287935</td>\n",
              "    </tr>\n",
              "    <tr>\n",
              "      <th>min</th>\n",
              "      <td>0.000000</td>\n",
              "      <td>0.000000</td>\n",
              "      <td>0.000000</td>\n",
              "      <td>0.000000</td>\n",
              "      <td>0.000000</td>\n",
              "      <td>0.000000</td>\n",
              "      <td>0.000000</td>\n",
              "      <td>0.000000</td>\n",
              "    </tr>\n",
              "    <tr>\n",
              "      <th>25%</th>\n",
              "      <td>10.500000</td>\n",
              "      <td>548.000000</td>\n",
              "      <td>33.000000</td>\n",
              "      <td>0.000000</td>\n",
              "      <td>26.000000</td>\n",
              "      <td>125.500000</td>\n",
              "      <td>0.000000</td>\n",
              "      <td>1.486629</td>\n",
              "    </tr>\n",
              "    <tr>\n",
              "      <th>50%</th>\n",
              "      <td>10.500000</td>\n",
              "      <td>1009.000000</td>\n",
              "      <td>123.000000</td>\n",
              "      <td>0.115600</td>\n",
              "      <td>73.000000</td>\n",
              "      <td>211.050000</td>\n",
              "      <td>0.000000</td>\n",
              "      <td>3.217561</td>\n",
              "    </tr>\n",
              "    <tr>\n",
              "      <th>75%</th>\n",
              "      <td>10.500000</td>\n",
              "      <td>1802.250000</td>\n",
              "      <td>351.000000</td>\n",
              "      <td>14.334400</td>\n",
              "      <td>144.000000</td>\n",
              "      <td>366.205000</td>\n",
              "      <td>0.000000</td>\n",
              "      <td>6.153272</td>\n",
              "    </tr>\n",
              "    <tr>\n",
              "      <th>max</th>\n",
              "      <td>12795.030000</td>\n",
              "      <td>453872.000000</td>\n",
              "      <td>453650.000000</td>\n",
              "      <td>26198.601400</td>\n",
              "      <td>51288.000000</td>\n",
              "      <td>26945.990000</td>\n",
              "      <td>1.000000</td>\n",
              "      <td>5611.282395</td>\n",
              "    </tr>\n",
              "  </tbody>\n",
              "</table>\n",
              "</div>"
            ],
            "text/plain": [
              "       additional_fare       duration  ...  pick_drop_date_diff      distance\n",
              "count     16968.000000   16968.000000  ...         16968.000000  16968.000000\n",
              "mean         13.721437    1702.836987  ...             0.006777      4.856351\n",
              "std          98.992493    8121.556167  ...             0.082048     43.287935\n",
              "min           0.000000       0.000000  ...             0.000000      0.000000\n",
              "25%          10.500000     548.000000  ...             0.000000      1.486629\n",
              "50%          10.500000    1009.000000  ...             0.000000      3.217561\n",
              "75%          10.500000    1802.250000  ...             0.000000      6.153272\n",
              "max       12795.030000  453872.000000  ...             1.000000   5611.282395\n",
              "\n",
              "[8 rows x 8 columns]"
            ]
          },
          "metadata": {
            "tags": []
          },
          "execution_count": 157
        }
      ]
    },
    {
      "cell_type": "markdown",
      "metadata": {
        "id": "LZsdNEvLvMhz",
        "colab_type": "text"
      },
      "source": [
        "# ~~ Over sample training set ~~"
      ]
    },
    {
      "cell_type": "code",
      "metadata": {
        "pycharm": {
          "name": "#%%\n"
        },
        "id": "qAtDai4TvMh0",
        "colab_type": "code",
        "colab": {}
      },
      "source": [
        "# ros = RandomOverSampler()\n",
        "# x, y = ros.fit_sample(x, y)\n",
        "\n",
        "# rus = RandomUnderSampler()\n",
        "# x_train, y_train = rus.fit_sample(x_train, y_train)"
      ],
      "execution_count": 158,
      "outputs": []
    },
    {
      "cell_type": "code",
      "metadata": {
        "pycharm": {
          "name": "#%%\n"
        },
        "id": "dDojfEbOvMiD",
        "colab_type": "code",
        "colab": {
          "base_uri": "https://localhost:8080/",
          "height": 33
        },
        "outputId": "0b2910c7-361d-4216-e98b-261a6d804abf"
      },
      "source": [
        "x.shape, y.shape, x_test.shape"
      ],
      "execution_count": 159,
      "outputs": [
        {
          "output_type": "execute_result",
          "data": {
            "text/plain": [
              "((16968, 8), (16968,), (8576, 8))"
            ]
          },
          "metadata": {
            "tags": []
          },
          "execution_count": 159
        }
      ]
    },
    {
      "cell_type": "markdown",
      "metadata": {
        "id": "1hfYLSCq8ES3",
        "colab_type": "text"
      },
      "source": [
        "# Models"
      ]
    },
    {
      "cell_type": "code",
      "metadata": {
        "pycharm": {
          "name": "#%%\n"
        },
        "id": "JJeUkjj5vMh7",
        "colab_type": "code",
        "colab": {}
      },
      "source": [
        "models = {}\n",
        "\n",
        "models['gnb'] = GaussianNB()\n",
        "models['lr'] = LogisticRegression(solver='liblinear', multi_class='ovr',  max_iter=1000)\n",
        "models['lda'] = LinearDiscriminantAnalysis()\n",
        "models['knn'] = KNeighborsClassifier()\n",
        "models['dt'] = DecisionTreeClassifier()\n",
        "\n",
        "models['xgb'] = XGBClassifier() \n",
        "models['xgb5'] = XGBClassifier(base_score= 0.1, n_estimators=200, max_depth=5,  subsample = 0.7, colsample_bytree = 0.8, min_child_weight=3, eta = 0.3)\n",
        "\n",
        "models['rf'] = RandomForestClassifier(random_state=RANDOM_SEED)\n",
        "models['rf6'] = RandomForestClassifier(random_state=RANDOM_SEED, max_depth = 5 ,min_samples_leaf= 3, min_samples_split = 7, n_estimators = 300)\n",
        "\n",
        "models['gb'] = GradientBoostingClassifier(random_state=RANDOM_SEED)\n",
        "models['gb1'] = GradientBoostingClassifier(random_state=RANDOM_SEED, learning_rate = 0.05, max_depth = 15, n_estimators =500, subsample = 0.6)\n",
        "models['gbo'] = GradientBoostingClassifier(random_state=RANDOM_SEED, learning_rate = 0.05, n_estimators =1000)\n",
        "\n",
        "\n",
        "# stacked classifier\n",
        "level0 = list()\n",
        "# level0.append(('lr', LogisticRegression(penalty=\"l2\", max_iter=1000)))\n",
        "level0.append(('gbo',GradientBoostingClassifier(random_state=RANDOM_SEED, learning_rate = 0.05, n_estimators =1000)))\n",
        "level0.append(('xgb1', XGBClassifier(n_estimators=200, max_depth=10)))\n",
        "level0.append(('rf', RandomForestClassifier(random_state=RANDOM_SEED)))\n",
        "\n",
        "level0.append(('lr', LogisticRegression(random_state=RANDOM_SEED,penalty=\"l2\", max_iter=1000, C=2)))\n",
        "level0.append(('svm', SVC(random_state=RANDOM_SEED,gamma=10)))\n",
        "level0.append(('knn', KNeighborsClassifier(n_neighbors=10)))\n",
        "level0.append(('sgd', SGDClassifier(random_state=RANDOM_SEED,loss=\"log\", penalty=\"l2\")))\n",
        "level0.append(('ad', AdaBoostClassifier(random_state=RANDOM_SEED)))\n",
        "\n",
        "# define meta learner model\n",
        "level1 = LogisticRegression(penalty=\"l2\", max_iter=1000, C=3, random_state=RANDOM_SEED)\n",
        "# define the stacking ensemble\n",
        "models['stacking'] =  StackingClassifier(estimators=level0, final_estimator=level1, cv=3)\n",
        "\n",
        "# models['cat'] = CatBoostClassifier(iterations=2, learning_rate=1, depth=2)\n"
      ],
      "execution_count": 160,
      "outputs": []
    },
    {
      "cell_type": "markdown",
      "metadata": {
        "id": "nMiDJRZau0ew",
        "colab_type": "text"
      },
      "source": [
        "# NN\n"
      ]
    },
    {
      "cell_type": "code",
      "metadata": {
        "id": "6TybqQQTrMW9",
        "colab_type": "code",
        "colab": {}
      },
      "source": [
        "# import tensorflow as tf\n",
        "# inputs = tf.keras.Input(shape=(7,), name='Input')\n",
        "# l0 = tf.keras.layers.Dense(256, activation='relu')\n",
        "# a_0 = l1(inputs)\n",
        "# l1 = tf.keras.layers.Dense(128, activation='relu')\n",
        "# a = l1(a_0)\n",
        "# l2 = tf.keras.layers.Dense(32, activation='relu')\n",
        "# b = l2(a)\n",
        "# l3 = tf.keras.layers.Dense(16, activation='relu')\n",
        "# c = l3(b)\n",
        "# output = tf.keras.layers.Dense(1, activation='softmax')\n",
        "# outputs = output(c)\n",
        "# model = tf.keras.Model(inputs, outputs)"
      ],
      "execution_count": 161,
      "outputs": []
    },
    {
      "cell_type": "code",
      "metadata": {
        "id": "yGqAs64ertve",
        "colab_type": "code",
        "colab": {}
      },
      "source": [
        "# model.compile(optimizer='rmsprop',loss='binary_crossentropy', metrics=['accuracy'])"
      ],
      "execution_count": 162,
      "outputs": []
    },
    {
      "cell_type": "code",
      "metadata": {
        "id": "8YNltjmzr_3i",
        "colab_type": "code",
        "colab": {}
      },
      "source": [
        "# model.summary()"
      ],
      "execution_count": 163,
      "outputs": []
    },
    {
      "cell_type": "code",
      "metadata": {
        "id": "OwCYuaK3xhix",
        "colab_type": "code",
        "colab": {}
      },
      "source": [
        "# X_train, X_eval, y_train, y_eval = train_test_split(x, y, test_size=0.33, shuffle=True, random_state=RANDOM_SEED)"
      ],
      "execution_count": 164,
      "outputs": []
    },
    {
      "cell_type": "code",
      "metadata": {
        "id": "0cWiU_fOsDAv",
        "colab_type": "code",
        "colab": {}
      },
      "source": [
        "# model.fit(X_train,y_train, epochs=10)"
      ],
      "execution_count": 165,
      "outputs": []
    },
    {
      "cell_type": "code",
      "metadata": {
        "id": "VQbb8Wjwt1GJ",
        "colab_type": "code",
        "colab": {}
      },
      "source": [
        "# y_pred =  model.predict(X_eval)\n",
        "# f1 = f1_score(y_eval,y_pred)"
      ],
      "execution_count": 166,
      "outputs": []
    },
    {
      "cell_type": "code",
      "metadata": {
        "id": "SoiQqz6zyKjO",
        "colab_type": "code",
        "colab": {}
      },
      "source": [
        "# f1"
      ],
      "execution_count": 167,
      "outputs": []
    },
    {
      "cell_type": "markdown",
      "metadata": {
        "id": "2u3DqzH8vMiQ",
        "colab_type": "text"
      },
      "source": [
        "# Evaluate using 3 fold cross validation"
      ]
    },
    {
      "cell_type": "code",
      "metadata": {
        "pycharm": {
          "name": "#%%\n"
        },
        "id": "6TYrpoGLvMiR",
        "colab_type": "code",
        "colab": {
          "base_uri": "https://localhost:8080/",
          "height": 228
        },
        "outputId": "064853a7-c26a-4290-a90d-5c8de58ae5e2"
      },
      "source": [
        "for i in models:\n",
        "    model = models[i]\n",
        "    skfold = StratifiedKFold(n_splits=3, shuffle=True, random_state=RANDOM_SEED)\n",
        "    model_results = cross_val_score(model, x, y, cv=skfold, scoring='f1')\n",
        "    print(i, model_results, mean(model_results))"
      ],
      "execution_count": 168,
      "outputs": [
        {
          "output_type": "stream",
          "text": [
            "gnb [0.94740811 0.95270144 0.95178354] 0.9506310286497192\n",
            "lr [0.95970009 0.95821258 0.95707353] 0.9583287371963273\n",
            "lda [0.95399289 0.9558796  0.95324844] 0.9543736466797484\n",
            "knn [0.96950057 0.96895471 0.96915461] 0.9692032977965036\n",
            "dt [0.95593683 0.9580223  0.95559227] 0.9565171308340661\n",
            "xgb [0.96912879 0.96885355 0.96881812] 0.9689334849260531\n",
            "xgb5 [0.97502631 0.97305532 0.9711603 ] 0.9730806419679132\n",
            "rf [0.97403589 0.97298326 0.97182157] 0.9729469057438846\n",
            "rf6 [0.95721078 0.95841104 0.95824012] 0.9579539788385276\n",
            "gb [0.97030642 0.97007009 0.96952435] 0.9699669545363422\n",
            "gb1 [0.97522716 0.97423664 0.972528  ] 0.9739972679087268\n",
            "gbo [0.97342256 0.97255575 0.97322624] 0.9730681821895408\n",
            "stacking [0.97476734 0.97451074 0.97260406] 0.9739607126117845\n"
          ],
          "name": "stdout"
        }
      ]
    },
    {
      "cell_type": "markdown",
      "metadata": {
        "pycharm": {
          "name": "#%% md\n"
        },
        "id": "eEQC63IsvMiW",
        "colab_type": "text"
      },
      "source": [
        "# Cross Validate & Bag"
      ]
    },
    {
      "cell_type": "code",
      "metadata": {
        "pycharm": {
          "name": "#%%\n"
        },
        "id": "sG115KzBvMiW",
        "colab_type": "code",
        "colab": {}
      },
      "source": [
        "best_three_folds = []\n",
        "for i in models:\n",
        "    skfold = StratifiedKFold(n_splits=3, shuffle=True, random_state=RANDOM_SEED)\n",
        "    model = models[i]\n",
        "    model_result = []\n",
        "\n",
        "\n",
        "    for train_index, test_index in skfold.split(x, y):\n",
        "        X_train, X_test = x.iloc[train_index,:], x.iloc[test_index,:]\n",
        "        y_train, y_test = y.iloc[train_index], y.iloc[test_index]\n",
        "\n",
        "        model.fit(X_train,y_train)\n",
        "        y_pred = model.predict(X_test) #predict for cross-validate Xtest\n",
        "        f1 = f1_score(y_test,y_pred)\n",
        "        model_result.append(f1)\n",
        "\n",
        "        #predict submission for gradient boost\n",
        "        if i == 'gbo':\n",
        "            prediction = model.predict(x_test)\n",
        "            best_three_folds.append(prediction.tolist())\n",
        "#             print(best_three_folds)\n",
        "#             best_three_folds.append(prediction)\n",
        "\n",
        "    print(i,model_result, mean(model_result))"
      ],
      "execution_count": null,
      "outputs": []
    },
    {
      "cell_type": "markdown",
      "metadata": {
        "id": "Nh6jb1TgvMib",
        "colab_type": "text"
      },
      "source": [
        "# Predict by averaging fold results"
      ]
    },
    {
      "cell_type": "code",
      "metadata": {
        "pycharm": {
          "name": "#%%\n"
        },
        "id": "BPLiWaUjvMic",
        "colab_type": "code",
        "colab": {}
      },
      "source": [
        "best_three_folds = np.array(best_three_folds)\n",
        "best_three_folds = np.mean(best_three_folds, axis=0)\n",
        "p = np.where(best_three_folds < 0.5, 0, 1)\n",
        "p"
      ],
      "execution_count": null,
      "outputs": []
    },
    {
      "cell_type": "markdown",
      "metadata": {
        "id": "Vguox3Hy9k8w",
        "colab_type": "text"
      },
      "source": [
        "# ~~ Train test split ~~"
      ]
    },
    {
      "cell_type": "code",
      "metadata": {
        "id": "kon-XlcL6TMf",
        "colab_type": "code",
        "colab": {}
      },
      "source": [
        "# X_train, X_eval, y_train, y_eval = train_test_split(x, y, test_size=0.33, shuffle=True, random_state=RANDOM_SEED)"
      ],
      "execution_count": null,
      "outputs": []
    },
    {
      "cell_type": "code",
      "metadata": {
        "id": "so8J6k4f5EhB",
        "colab_type": "code",
        "colab": {
          "base_uri": "https://localhost:8080/",
          "height": 33
        },
        "outputId": "300431c7-9a26-4e0f-e00b-ae6dcd7294a0"
      },
      "source": [
        "# for i in models:\n",
        "#   model = models[i]\n",
        "#   model.fit(X_train,y_train)\n",
        "#   y_pred = model.predict(X_eval)\n",
        "#   f1 = f1_score(y_eval,y_pred)\n",
        "#   print(i, f1)"
      ],
      "execution_count": null,
      "outputs": [
        {
          "output_type": "stream",
          "text": [
            "gbo 0.9722624915434427\n"
          ],
          "name": "stdout"
        }
      ]
    },
    {
      "cell_type": "code",
      "metadata": {
        "id": "2HCsZlHCvMih",
        "colab_type": "code",
        "colab": {}
      },
      "source": [
        "# model =  models['xgbnew5']\n",
        "# model.fit(x,y)\n",
        "# p = model.predict(x_test)"
      ],
      "execution_count": null,
      "outputs": []
    },
    {
      "cell_type": "markdown",
      "metadata": {
        "id": "l3XMfWnBb7z1",
        "colab_type": "text"
      },
      "source": [
        "# Write Submission"
      ]
    },
    {
      "cell_type": "code",
      "metadata": {
        "pycharm": {
          "name": "#%%\n"
        },
        "id": "70MRlhouvMip",
        "colab_type": "code",
        "colab": {}
      },
      "source": [
        "out_df = pd.DataFrame()\n",
        "out_df ['tripid'] = trip_id_no_norm\n",
        "out_df['prediction'] = p\n",
        "out_df\n",
        "out_df.to_csv('submission.csv', index=False)"
      ],
      "execution_count": null,
      "outputs": []
    }
  ]
}